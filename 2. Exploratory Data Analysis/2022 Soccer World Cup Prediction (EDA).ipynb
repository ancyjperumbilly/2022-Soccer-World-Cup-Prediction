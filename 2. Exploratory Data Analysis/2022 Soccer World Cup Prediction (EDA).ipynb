{
 "cells": [
  {
   "cell_type": "markdown",
   "id": "84ebb6b7",
   "metadata": {},
   "source": [
    "# FIFA WORLDCUP 2022 PREDICTION\n",
    "\n",
    "In order to predict the winner of the 2022 FIFA World Cup, it's important to analyze the data to gain insights and understand the key takeaways from previous matches.<br>\n",
    "\n",
    "In this EDA , we will be focusing on analyzing FIFA international matches data rom 2012 to 2017 including match results & team performance. We will be using data visualization techniques to explore patterns and trends in the data, and statistical methods to analyze and make inferences about the tournament.<br>\n",
    "\n",
    "Some of the key questions we will be trying to answer include:<br>\n",
    "\n",
    "1. Average possession percentage for team1 and team2<br>\n",
    "2. Impact of possession versus number of goals scored by team1 and team2<br>\n",
    "3. Comparison of total attempts, on target attempts, and goals scored by team1 and team2<br>\n",
    "4. Distribution of goals scored by team1 and team2<br>"
   ]
  },
  {
   "cell_type": "markdown",
   "id": "6f3da467",
   "metadata": {},
   "source": [
    ">## Libraries we are using in this project\n",
    "\n",
    "1. pandas<br>\n",
    "2. numpy<br>\n",
    "3. matplotlib<br>"
   ]
  },
  {
   "cell_type": "markdown",
   "id": "165d2fde",
   "metadata": {},
   "source": [
    "### 1. Acquisition of Data\n",
    "\n",
    " - Collect data on the teams that participated in previous World Cups, including match results and overall team performance.<br>\n",
    " - Clean and organize the data, and make sure it is in a format that can be easily analyzed.<br>"
   ]
  },
  {
   "cell_type": "markdown",
   "id": "328104ad",
   "metadata": {},
   "source": [
    " - ### Import Pandas and Numpy libraries"
   ]
  },
  {
   "cell_type": "code",
   "execution_count": 114,
   "id": "39ad6032",
   "metadata": {},
   "outputs": [],
   "source": [
    "import pandas as pd\n",
    "import numpy as np\n",
    "import seaborn as sns"
   ]
  },
  {
   "cell_type": "code",
   "execution_count": 115,
   "id": "ebebcf32",
   "metadata": {},
   "outputs": [],
   "source": [
    "df=pd.read_csv(\"FIFAallMatchBoxData.csv\")"
   ]
  },
  {
   "cell_type": "markdown",
   "id": "3fc9863e",
   "metadata": {},
   "source": [
    " - ### Check the complete dataframe"
   ]
  },
  {
   "cell_type": "code",
   "execution_count": 116,
   "id": "e85862bb",
   "metadata": {},
   "outputs": [
    {
     "data": {
      "text/html": [
       "<div>\n",
       "<style scoped>\n",
       "    .dataframe tbody tr th:only-of-type {\n",
       "        vertical-align: middle;\n",
       "    }\n",
       "\n",
       "    .dataframe tbody tr th {\n",
       "        vertical-align: top;\n",
       "    }\n",
       "\n",
       "    .dataframe thead th {\n",
       "        text-align: right;\n",
       "    }\n",
       "</style>\n",
       "<table border=\"1\" class=\"dataframe\">\n",
       "  <thead>\n",
       "    <tr style=\"text-align: right;\">\n",
       "      <th></th>\n",
       "      <th>year</th>\n",
       "      <th>hname</th>\n",
       "      <th>aname</th>\n",
       "      <th>hgoals</th>\n",
       "      <th>agoals</th>\n",
       "      <th>hPossesion</th>\n",
       "      <th>aPossesion</th>\n",
       "      <th>hshotsOnTarget</th>\n",
       "      <th>ashotsOnTarget</th>\n",
       "      <th>hshots</th>\n",
       "      <th>ashots</th>\n",
       "      <th>hyellowCards</th>\n",
       "      <th>ayellowCards</th>\n",
       "      <th>hredCards</th>\n",
       "      <th>aredCards</th>\n",
       "      <th>hfouls</th>\n",
       "      <th>afouls</th>\n",
       "      <th>hsaves</th>\n",
       "      <th>asaves</th>\n",
       "    </tr>\n",
       "  </thead>\n",
       "  <tbody>\n",
       "    <tr>\n",
       "      <th>0</th>\n",
       "      <td>2012</td>\n",
       "      <td>Mexico</td>\n",
       "      <td>Costa Rica</td>\n",
       "      <td>1</td>\n",
       "      <td>0</td>\n",
       "      <td>0</td>\n",
       "      <td>0</td>\n",
       "      <td>0</td>\n",
       "      <td>0</td>\n",
       "      <td>0</td>\n",
       "      <td>0</td>\n",
       "      <td>1</td>\n",
       "      <td>2</td>\n",
       "      <td>0</td>\n",
       "      <td>0</td>\n",
       "      <td>0</td>\n",
       "      <td>0</td>\n",
       "      <td>0</td>\n",
       "      <td>0</td>\n",
       "    </tr>\n",
       "    <tr>\n",
       "      <th>1</th>\n",
       "      <td>2012</td>\n",
       "      <td>Antigua and Barbuda</td>\n",
       "      <td>United States</td>\n",
       "      <td>1</td>\n",
       "      <td>2</td>\n",
       "      <td>24</td>\n",
       "      <td>76</td>\n",
       "      <td>2</td>\n",
       "      <td>4</td>\n",
       "      <td>14</td>\n",
       "      <td>17</td>\n",
       "      <td>1</td>\n",
       "      <td>1</td>\n",
       "      <td>0</td>\n",
       "      <td>0</td>\n",
       "      <td>11</td>\n",
       "      <td>13</td>\n",
       "      <td>2</td>\n",
       "      <td>1</td>\n",
       "    </tr>\n",
       "    <tr>\n",
       "      <th>2</th>\n",
       "      <td>2012</td>\n",
       "      <td>United States</td>\n",
       "      <td>Guatemala</td>\n",
       "      <td>3</td>\n",
       "      <td>1</td>\n",
       "      <td>80</td>\n",
       "      <td>20</td>\n",
       "      <td>3</td>\n",
       "      <td>1</td>\n",
       "      <td>5</td>\n",
       "      <td>2</td>\n",
       "      <td>0</td>\n",
       "      <td>0</td>\n",
       "      <td>0</td>\n",
       "      <td>0</td>\n",
       "      <td>1</td>\n",
       "      <td>3</td>\n",
       "      <td>0</td>\n",
       "      <td>1</td>\n",
       "    </tr>\n",
       "    <tr>\n",
       "      <th>3</th>\n",
       "      <td>2013</td>\n",
       "      <td>Honduras</td>\n",
       "      <td>United States</td>\n",
       "      <td>2</td>\n",
       "      <td>1</td>\n",
       "      <td>57</td>\n",
       "      <td>43</td>\n",
       "      <td>4</td>\n",
       "      <td>2</td>\n",
       "      <td>12</td>\n",
       "      <td>11</td>\n",
       "      <td>0</td>\n",
       "      <td>0</td>\n",
       "      <td>0</td>\n",
       "      <td>0</td>\n",
       "      <td>10</td>\n",
       "      <td>12</td>\n",
       "      <td>1</td>\n",
       "      <td>2</td>\n",
       "    </tr>\n",
       "    <tr>\n",
       "      <th>4</th>\n",
       "      <td>2013</td>\n",
       "      <td>Panama</td>\n",
       "      <td>Costa Rica</td>\n",
       "      <td>2</td>\n",
       "      <td>2</td>\n",
       "      <td>47</td>\n",
       "      <td>53</td>\n",
       "      <td>5</td>\n",
       "      <td>3</td>\n",
       "      <td>13</td>\n",
       "      <td>11</td>\n",
       "      <td>1</td>\n",
       "      <td>1</td>\n",
       "      <td>0</td>\n",
       "      <td>0</td>\n",
       "      <td>7</td>\n",
       "      <td>10</td>\n",
       "      <td>1</td>\n",
       "      <td>3</td>\n",
       "    </tr>\n",
       "    <tr>\n",
       "      <th>...</th>\n",
       "      <td>...</td>\n",
       "      <td>...</td>\n",
       "      <td>...</td>\n",
       "      <td>...</td>\n",
       "      <td>...</td>\n",
       "      <td>...</td>\n",
       "      <td>...</td>\n",
       "      <td>...</td>\n",
       "      <td>...</td>\n",
       "      <td>...</td>\n",
       "      <td>...</td>\n",
       "      <td>...</td>\n",
       "      <td>...</td>\n",
       "      <td>...</td>\n",
       "      <td>...</td>\n",
       "      <td>...</td>\n",
       "      <td>...</td>\n",
       "      <td>...</td>\n",
       "      <td>...</td>\n",
       "    </tr>\n",
       "    <tr>\n",
       "      <th>1477</th>\n",
       "      <td>2017</td>\n",
       "      <td>Bulgaria</td>\n",
       "      <td>Netherlands</td>\n",
       "      <td>2</td>\n",
       "      <td>0</td>\n",
       "      <td>26</td>\n",
       "      <td>74</td>\n",
       "      <td>4</td>\n",
       "      <td>3</td>\n",
       "      <td>6</td>\n",
       "      <td>9</td>\n",
       "      <td>0</td>\n",
       "      <td>0</td>\n",
       "      <td>0</td>\n",
       "      <td>0</td>\n",
       "      <td>7</td>\n",
       "      <td>10</td>\n",
       "      <td>3</td>\n",
       "      <td>2</td>\n",
       "    </tr>\n",
       "    <tr>\n",
       "      <th>1478</th>\n",
       "      <td>2017</td>\n",
       "      <td>Luxembourg</td>\n",
       "      <td>France</td>\n",
       "      <td>1</td>\n",
       "      <td>3</td>\n",
       "      <td>37</td>\n",
       "      <td>63</td>\n",
       "      <td>1</td>\n",
       "      <td>9</td>\n",
       "      <td>3</td>\n",
       "      <td>17</td>\n",
       "      <td>3</td>\n",
       "      <td>1</td>\n",
       "      <td>0</td>\n",
       "      <td>0</td>\n",
       "      <td>19</td>\n",
       "      <td>9</td>\n",
       "      <td>6</td>\n",
       "      <td>0</td>\n",
       "    </tr>\n",
       "    <tr>\n",
       "      <th>1479</th>\n",
       "      <td>2017</td>\n",
       "      <td>Faroe Islands</td>\n",
       "      <td>Andorra</td>\n",
       "      <td>1</td>\n",
       "      <td>0</td>\n",
       "      <td>68</td>\n",
       "      <td>32</td>\n",
       "      <td>2</td>\n",
       "      <td>1</td>\n",
       "      <td>6</td>\n",
       "      <td>7</td>\n",
       "      <td>1</td>\n",
       "      <td>5</td>\n",
       "      <td>0</td>\n",
       "      <td>0</td>\n",
       "      <td>22</td>\n",
       "      <td>19</td>\n",
       "      <td>1</td>\n",
       "      <td>1</td>\n",
       "    </tr>\n",
       "    <tr>\n",
       "      <th>1480</th>\n",
       "      <td>2017</td>\n",
       "      <td>Netherlands</td>\n",
       "      <td>Bulgaria</td>\n",
       "      <td>3</td>\n",
       "      <td>1</td>\n",
       "      <td>65</td>\n",
       "      <td>35</td>\n",
       "      <td>5</td>\n",
       "      <td>2</td>\n",
       "      <td>19</td>\n",
       "      <td>9</td>\n",
       "      <td>1</td>\n",
       "      <td>5</td>\n",
       "      <td>0</td>\n",
       "      <td>0</td>\n",
       "      <td>19</td>\n",
       "      <td>17</td>\n",
       "      <td>1</td>\n",
       "      <td>2</td>\n",
       "    </tr>\n",
       "    <tr>\n",
       "      <th>1481</th>\n",
       "      <td>2017</td>\n",
       "      <td>Gibraltar</td>\n",
       "      <td>Bosnia and Herzegovina</td>\n",
       "      <td>0</td>\n",
       "      <td>4</td>\n",
       "      <td>29</td>\n",
       "      <td>71</td>\n",
       "      <td>0</td>\n",
       "      <td>9</td>\n",
       "      <td>1</td>\n",
       "      <td>22</td>\n",
       "      <td>0</td>\n",
       "      <td>1</td>\n",
       "      <td>0</td>\n",
       "      <td>0</td>\n",
       "      <td>10</td>\n",
       "      <td>6</td>\n",
       "      <td>5</td>\n",
       "      <td>0</td>\n",
       "    </tr>\n",
       "  </tbody>\n",
       "</table>\n",
       "<p>1482 rows × 19 columns</p>\n",
       "</div>"
      ],
      "text/plain": [
       "      year                hname                   aname  hgoals  agoals  \\\n",
       "0     2012               Mexico              Costa Rica       1       0   \n",
       "1     2012  Antigua and Barbuda           United States       1       2   \n",
       "2     2012        United States               Guatemala       3       1   \n",
       "3     2013             Honduras           United States       2       1   \n",
       "4     2013               Panama              Costa Rica       2       2   \n",
       "...    ...                  ...                     ...     ...     ...   \n",
       "1477  2017             Bulgaria             Netherlands       2       0   \n",
       "1478  2017           Luxembourg                  France       1       3   \n",
       "1479  2017        Faroe Islands                 Andorra       1       0   \n",
       "1480  2017          Netherlands                Bulgaria       3       1   \n",
       "1481  2017            Gibraltar  Bosnia and Herzegovina       0       4   \n",
       "\n",
       "      hPossesion  aPossesion  hshotsOnTarget  ashotsOnTarget  hshots  ashots  \\\n",
       "0              0           0               0               0       0       0   \n",
       "1             24          76               2               4      14      17   \n",
       "2             80          20               3               1       5       2   \n",
       "3             57          43               4               2      12      11   \n",
       "4             47          53               5               3      13      11   \n",
       "...          ...         ...             ...             ...     ...     ...   \n",
       "1477          26          74               4               3       6       9   \n",
       "1478          37          63               1               9       3      17   \n",
       "1479          68          32               2               1       6       7   \n",
       "1480          65          35               5               2      19       9   \n",
       "1481          29          71               0               9       1      22   \n",
       "\n",
       "      hyellowCards  ayellowCards  hredCards  aredCards  hfouls  afouls  \\\n",
       "0                1             2          0          0       0       0   \n",
       "1                1             1          0          0      11      13   \n",
       "2                0             0          0          0       1       3   \n",
       "3                0             0          0          0      10      12   \n",
       "4                1             1          0          0       7      10   \n",
       "...            ...           ...        ...        ...     ...     ...   \n",
       "1477             0             0          0          0       7      10   \n",
       "1478             3             1          0          0      19       9   \n",
       "1479             1             5          0          0      22      19   \n",
       "1480             1             5          0          0      19      17   \n",
       "1481             0             1          0          0      10       6   \n",
       "\n",
       "      hsaves  asaves  \n",
       "0          0       0  \n",
       "1          2       1  \n",
       "2          0       1  \n",
       "3          1       2  \n",
       "4          1       3  \n",
       "...      ...     ...  \n",
       "1477       3       2  \n",
       "1478       6       0  \n",
       "1479       1       1  \n",
       "1480       1       2  \n",
       "1481       5       0  \n",
       "\n",
       "[1482 rows x 19 columns]"
      ]
     },
     "execution_count": 116,
     "metadata": {},
     "output_type": "execute_result"
    }
   ],
   "source": [
    "df"
   ]
  },
  {
   "cell_type": "markdown",
   "id": "b403e2d4",
   "metadata": {},
   "source": [
    "### 2. Data Analysis"
   ]
  },
  {
   "cell_type": "code",
   "execution_count": 117,
   "id": "710d31d9",
   "metadata": {},
   "outputs": [
    {
     "data": {
      "text/plain": [
       "Index(['year', 'hname', 'aname', 'hgoals', 'agoals', 'hPossesion',\n",
       "       'aPossesion', 'hshotsOnTarget', 'ashotsOnTarget', 'hshots', 'ashots',\n",
       "       'hyellowCards', 'ayellowCards', 'hredCards', 'aredCards', 'hfouls',\n",
       "       'afouls', 'hsaves', 'asaves'],\n",
       "      dtype='object')"
      ]
     },
     "execution_count": 117,
     "metadata": {},
     "output_type": "execute_result"
    }
   ],
   "source": [
    "df.columns"
   ]
  },
  {
   "cell_type": "code",
   "execution_count": 118,
   "id": "8b937ffa",
   "metadata": {},
   "outputs": [
    {
     "data": {
      "text/html": [
       "<div>\n",
       "<style scoped>\n",
       "    .dataframe tbody tr th:only-of-type {\n",
       "        vertical-align: middle;\n",
       "    }\n",
       "\n",
       "    .dataframe tbody tr th {\n",
       "        vertical-align: top;\n",
       "    }\n",
       "\n",
       "    .dataframe thead th {\n",
       "        text-align: right;\n",
       "    }\n",
       "</style>\n",
       "<table border=\"1\" class=\"dataframe\">\n",
       "  <thead>\n",
       "    <tr style=\"text-align: right;\">\n",
       "      <th></th>\n",
       "      <th>year</th>\n",
       "      <th>hname</th>\n",
       "      <th>aname</th>\n",
       "      <th>hgoals</th>\n",
       "      <th>agoals</th>\n",
       "      <th>hPossesion</th>\n",
       "      <th>aPossesion</th>\n",
       "      <th>hshotsOnTarget</th>\n",
       "      <th>ashotsOnTarget</th>\n",
       "      <th>hshots</th>\n",
       "      <th>ashots</th>\n",
       "      <th>hyellowCards</th>\n",
       "      <th>ayellowCards</th>\n",
       "      <th>hredCards</th>\n",
       "      <th>aredCards</th>\n",
       "      <th>hfouls</th>\n",
       "      <th>afouls</th>\n",
       "      <th>hsaves</th>\n",
       "      <th>asaves</th>\n",
       "    </tr>\n",
       "  </thead>\n",
       "  <tbody>\n",
       "    <tr>\n",
       "      <th>0</th>\n",
       "      <td>2012</td>\n",
       "      <td>Mexico</td>\n",
       "      <td>Costa Rica</td>\n",
       "      <td>1</td>\n",
       "      <td>0</td>\n",
       "      <td>0</td>\n",
       "      <td>0</td>\n",
       "      <td>0</td>\n",
       "      <td>0</td>\n",
       "      <td>0</td>\n",
       "      <td>0</td>\n",
       "      <td>1</td>\n",
       "      <td>2</td>\n",
       "      <td>0</td>\n",
       "      <td>0</td>\n",
       "      <td>0</td>\n",
       "      <td>0</td>\n",
       "      <td>0</td>\n",
       "      <td>0</td>\n",
       "    </tr>\n",
       "    <tr>\n",
       "      <th>1</th>\n",
       "      <td>2012</td>\n",
       "      <td>Antigua and Barbuda</td>\n",
       "      <td>United States</td>\n",
       "      <td>1</td>\n",
       "      <td>2</td>\n",
       "      <td>24</td>\n",
       "      <td>76</td>\n",
       "      <td>2</td>\n",
       "      <td>4</td>\n",
       "      <td>14</td>\n",
       "      <td>17</td>\n",
       "      <td>1</td>\n",
       "      <td>1</td>\n",
       "      <td>0</td>\n",
       "      <td>0</td>\n",
       "      <td>11</td>\n",
       "      <td>13</td>\n",
       "      <td>2</td>\n",
       "      <td>1</td>\n",
       "    </tr>\n",
       "    <tr>\n",
       "      <th>2</th>\n",
       "      <td>2012</td>\n",
       "      <td>United States</td>\n",
       "      <td>Guatemala</td>\n",
       "      <td>3</td>\n",
       "      <td>1</td>\n",
       "      <td>80</td>\n",
       "      <td>20</td>\n",
       "      <td>3</td>\n",
       "      <td>1</td>\n",
       "      <td>5</td>\n",
       "      <td>2</td>\n",
       "      <td>0</td>\n",
       "      <td>0</td>\n",
       "      <td>0</td>\n",
       "      <td>0</td>\n",
       "      <td>1</td>\n",
       "      <td>3</td>\n",
       "      <td>0</td>\n",
       "      <td>1</td>\n",
       "    </tr>\n",
       "    <tr>\n",
       "      <th>3</th>\n",
       "      <td>2013</td>\n",
       "      <td>Honduras</td>\n",
       "      <td>United States</td>\n",
       "      <td>2</td>\n",
       "      <td>1</td>\n",
       "      <td>57</td>\n",
       "      <td>43</td>\n",
       "      <td>4</td>\n",
       "      <td>2</td>\n",
       "      <td>12</td>\n",
       "      <td>11</td>\n",
       "      <td>0</td>\n",
       "      <td>0</td>\n",
       "      <td>0</td>\n",
       "      <td>0</td>\n",
       "      <td>10</td>\n",
       "      <td>12</td>\n",
       "      <td>1</td>\n",
       "      <td>2</td>\n",
       "    </tr>\n",
       "    <tr>\n",
       "      <th>4</th>\n",
       "      <td>2013</td>\n",
       "      <td>Panama</td>\n",
       "      <td>Costa Rica</td>\n",
       "      <td>2</td>\n",
       "      <td>2</td>\n",
       "      <td>47</td>\n",
       "      <td>53</td>\n",
       "      <td>5</td>\n",
       "      <td>3</td>\n",
       "      <td>13</td>\n",
       "      <td>11</td>\n",
       "      <td>1</td>\n",
       "      <td>1</td>\n",
       "      <td>0</td>\n",
       "      <td>0</td>\n",
       "      <td>7</td>\n",
       "      <td>10</td>\n",
       "      <td>1</td>\n",
       "      <td>3</td>\n",
       "    </tr>\n",
       "  </tbody>\n",
       "</table>\n",
       "</div>"
      ],
      "text/plain": [
       "   year                hname          aname  hgoals  agoals  hPossesion  \\\n",
       "0  2012               Mexico     Costa Rica       1       0           0   \n",
       "1  2012  Antigua and Barbuda  United States       1       2          24   \n",
       "2  2012        United States      Guatemala       3       1          80   \n",
       "3  2013             Honduras  United States       2       1          57   \n",
       "4  2013               Panama     Costa Rica       2       2          47   \n",
       "\n",
       "   aPossesion  hshotsOnTarget  ashotsOnTarget  hshots  ashots  hyellowCards  \\\n",
       "0           0               0               0       0       0             1   \n",
       "1          76               2               4      14      17             1   \n",
       "2          20               3               1       5       2             0   \n",
       "3          43               4               2      12      11             0   \n",
       "4          53               5               3      13      11             1   \n",
       "\n",
       "   ayellowCards  hredCards  aredCards  hfouls  afouls  hsaves  asaves  \n",
       "0             2          0          0       0       0       0       0  \n",
       "1             1          0          0      11      13       2       1  \n",
       "2             0          0          0       1       3       0       1  \n",
       "3             0          0          0      10      12       1       2  \n",
       "4             1          0          0       7      10       1       3  "
      ]
     },
     "execution_count": 118,
     "metadata": {},
     "output_type": "execute_result"
    }
   ],
   "source": [
    "df.head()"
   ]
  },
  {
   "cell_type": "code",
   "execution_count": 119,
   "id": "82764474",
   "metadata": {},
   "outputs": [
    {
     "data": {
      "text/html": [
       "<div>\n",
       "<style scoped>\n",
       "    .dataframe tbody tr th:only-of-type {\n",
       "        vertical-align: middle;\n",
       "    }\n",
       "\n",
       "    .dataframe tbody tr th {\n",
       "        vertical-align: top;\n",
       "    }\n",
       "\n",
       "    .dataframe thead th {\n",
       "        text-align: right;\n",
       "    }\n",
       "</style>\n",
       "<table border=\"1\" class=\"dataframe\">\n",
       "  <thead>\n",
       "    <tr style=\"text-align: right;\">\n",
       "      <th></th>\n",
       "      <th>year</th>\n",
       "      <th>hname</th>\n",
       "      <th>aname</th>\n",
       "      <th>hgoals</th>\n",
       "      <th>agoals</th>\n",
       "      <th>hPossesion</th>\n",
       "      <th>aPossesion</th>\n",
       "      <th>hshotsOnTarget</th>\n",
       "      <th>ashotsOnTarget</th>\n",
       "      <th>hshots</th>\n",
       "      <th>ashots</th>\n",
       "      <th>hyellowCards</th>\n",
       "      <th>ayellowCards</th>\n",
       "      <th>hredCards</th>\n",
       "      <th>aredCards</th>\n",
       "      <th>hfouls</th>\n",
       "      <th>afouls</th>\n",
       "      <th>hsaves</th>\n",
       "      <th>asaves</th>\n",
       "    </tr>\n",
       "  </thead>\n",
       "  <tbody>\n",
       "    <tr>\n",
       "      <th>1477</th>\n",
       "      <td>2017</td>\n",
       "      <td>Bulgaria</td>\n",
       "      <td>Netherlands</td>\n",
       "      <td>2</td>\n",
       "      <td>0</td>\n",
       "      <td>26</td>\n",
       "      <td>74</td>\n",
       "      <td>4</td>\n",
       "      <td>3</td>\n",
       "      <td>6</td>\n",
       "      <td>9</td>\n",
       "      <td>0</td>\n",
       "      <td>0</td>\n",
       "      <td>0</td>\n",
       "      <td>0</td>\n",
       "      <td>7</td>\n",
       "      <td>10</td>\n",
       "      <td>3</td>\n",
       "      <td>2</td>\n",
       "    </tr>\n",
       "    <tr>\n",
       "      <th>1478</th>\n",
       "      <td>2017</td>\n",
       "      <td>Luxembourg</td>\n",
       "      <td>France</td>\n",
       "      <td>1</td>\n",
       "      <td>3</td>\n",
       "      <td>37</td>\n",
       "      <td>63</td>\n",
       "      <td>1</td>\n",
       "      <td>9</td>\n",
       "      <td>3</td>\n",
       "      <td>17</td>\n",
       "      <td>3</td>\n",
       "      <td>1</td>\n",
       "      <td>0</td>\n",
       "      <td>0</td>\n",
       "      <td>19</td>\n",
       "      <td>9</td>\n",
       "      <td>6</td>\n",
       "      <td>0</td>\n",
       "    </tr>\n",
       "    <tr>\n",
       "      <th>1479</th>\n",
       "      <td>2017</td>\n",
       "      <td>Faroe Islands</td>\n",
       "      <td>Andorra</td>\n",
       "      <td>1</td>\n",
       "      <td>0</td>\n",
       "      <td>68</td>\n",
       "      <td>32</td>\n",
       "      <td>2</td>\n",
       "      <td>1</td>\n",
       "      <td>6</td>\n",
       "      <td>7</td>\n",
       "      <td>1</td>\n",
       "      <td>5</td>\n",
       "      <td>0</td>\n",
       "      <td>0</td>\n",
       "      <td>22</td>\n",
       "      <td>19</td>\n",
       "      <td>1</td>\n",
       "      <td>1</td>\n",
       "    </tr>\n",
       "    <tr>\n",
       "      <th>1480</th>\n",
       "      <td>2017</td>\n",
       "      <td>Netherlands</td>\n",
       "      <td>Bulgaria</td>\n",
       "      <td>3</td>\n",
       "      <td>1</td>\n",
       "      <td>65</td>\n",
       "      <td>35</td>\n",
       "      <td>5</td>\n",
       "      <td>2</td>\n",
       "      <td>19</td>\n",
       "      <td>9</td>\n",
       "      <td>1</td>\n",
       "      <td>5</td>\n",
       "      <td>0</td>\n",
       "      <td>0</td>\n",
       "      <td>19</td>\n",
       "      <td>17</td>\n",
       "      <td>1</td>\n",
       "      <td>2</td>\n",
       "    </tr>\n",
       "    <tr>\n",
       "      <th>1481</th>\n",
       "      <td>2017</td>\n",
       "      <td>Gibraltar</td>\n",
       "      <td>Bosnia and Herzegovina</td>\n",
       "      <td>0</td>\n",
       "      <td>4</td>\n",
       "      <td>29</td>\n",
       "      <td>71</td>\n",
       "      <td>0</td>\n",
       "      <td>9</td>\n",
       "      <td>1</td>\n",
       "      <td>22</td>\n",
       "      <td>0</td>\n",
       "      <td>1</td>\n",
       "      <td>0</td>\n",
       "      <td>0</td>\n",
       "      <td>10</td>\n",
       "      <td>6</td>\n",
       "      <td>5</td>\n",
       "      <td>0</td>\n",
       "    </tr>\n",
       "  </tbody>\n",
       "</table>\n",
       "</div>"
      ],
      "text/plain": [
       "      year          hname                   aname  hgoals  agoals  hPossesion  \\\n",
       "1477  2017       Bulgaria             Netherlands       2       0          26   \n",
       "1478  2017     Luxembourg                  France       1       3          37   \n",
       "1479  2017  Faroe Islands                 Andorra       1       0          68   \n",
       "1480  2017    Netherlands                Bulgaria       3       1          65   \n",
       "1481  2017      Gibraltar  Bosnia and Herzegovina       0       4          29   \n",
       "\n",
       "      aPossesion  hshotsOnTarget  ashotsOnTarget  hshots  ashots  \\\n",
       "1477          74               4               3       6       9   \n",
       "1478          63               1               9       3      17   \n",
       "1479          32               2               1       6       7   \n",
       "1480          35               5               2      19       9   \n",
       "1481          71               0               9       1      22   \n",
       "\n",
       "      hyellowCards  ayellowCards  hredCards  aredCards  hfouls  afouls  \\\n",
       "1477             0             0          0          0       7      10   \n",
       "1478             3             1          0          0      19       9   \n",
       "1479             1             5          0          0      22      19   \n",
       "1480             1             5          0          0      19      17   \n",
       "1481             0             1          0          0      10       6   \n",
       "\n",
       "      hsaves  asaves  \n",
       "1477       3       2  \n",
       "1478       6       0  \n",
       "1479       1       1  \n",
       "1480       1       2  \n",
       "1481       5       0  "
      ]
     },
     "execution_count": 119,
     "metadata": {},
     "output_type": "execute_result"
    }
   ],
   "source": [
    "df.tail()"
   ]
  },
  {
   "cell_type": "code",
   "execution_count": 120,
   "id": "fd287c2a",
   "metadata": {},
   "outputs": [
    {
     "name": "stdout",
     "output_type": "stream",
     "text": [
      "<class 'pandas.core.frame.DataFrame'>\n",
      "RangeIndex: 1482 entries, 0 to 1481\n",
      "Data columns (total 19 columns):\n",
      " #   Column          Non-Null Count  Dtype \n",
      "---  ------          --------------  ----- \n",
      " 0   year            1482 non-null   int64 \n",
      " 1   hname           1482 non-null   object\n",
      " 2   aname           1482 non-null   object\n",
      " 3   hgoals          1482 non-null   int64 \n",
      " 4   agoals          1482 non-null   int64 \n",
      " 5   hPossesion      1482 non-null   int64 \n",
      " 6   aPossesion      1482 non-null   int64 \n",
      " 7   hshotsOnTarget  1482 non-null   int64 \n",
      " 8   ashotsOnTarget  1482 non-null   int64 \n",
      " 9   hshots          1482 non-null   int64 \n",
      " 10  ashots          1482 non-null   int64 \n",
      " 11  hyellowCards    1482 non-null   int64 \n",
      " 12  ayellowCards    1482 non-null   int64 \n",
      " 13  hredCards       1482 non-null   int64 \n",
      " 14  aredCards       1482 non-null   int64 \n",
      " 15  hfouls          1482 non-null   int64 \n",
      " 16  afouls          1482 non-null   int64 \n",
      " 17  hsaves          1482 non-null   int64 \n",
      " 18  asaves          1482 non-null   int64 \n",
      "dtypes: int64(17), object(2)\n",
      "memory usage: 220.1+ KB\n"
     ]
    }
   ],
   "source": [
    "df.info()"
   ]
  },
  {
   "cell_type": "code",
   "execution_count": 121,
   "id": "dcef358f",
   "metadata": {},
   "outputs": [
    {
     "data": {
      "text/plain": [
       "year               int64\n",
       "hname             object\n",
       "aname             object\n",
       "hgoals             int64\n",
       "agoals             int64\n",
       "hPossesion         int64\n",
       "aPossesion         int64\n",
       "hshotsOnTarget     int64\n",
       "ashotsOnTarget     int64\n",
       "hshots             int64\n",
       "ashots             int64\n",
       "hyellowCards       int64\n",
       "ayellowCards       int64\n",
       "hredCards          int64\n",
       "aredCards          int64\n",
       "hfouls             int64\n",
       "afouls             int64\n",
       "hsaves             int64\n",
       "asaves             int64\n",
       "dtype: object"
      ]
     },
     "execution_count": 121,
     "metadata": {},
     "output_type": "execute_result"
    }
   ],
   "source": [
    "df.dtypes"
   ]
  },
  {
   "cell_type": "markdown",
   "id": "be69a505",
   "metadata": {},
   "source": [
    " - ### Checking whether null values are present or not"
   ]
  },
  {
   "cell_type": "code",
   "execution_count": 122,
   "id": "62204423",
   "metadata": {},
   "outputs": [
    {
     "data": {
      "text/plain": [
       "year              0\n",
       "hname             0\n",
       "aname             0\n",
       "hgoals            0\n",
       "agoals            0\n",
       "hPossesion        0\n",
       "aPossesion        0\n",
       "hshotsOnTarget    0\n",
       "ashotsOnTarget    0\n",
       "hshots            0\n",
       "ashots            0\n",
       "hyellowCards      0\n",
       "ayellowCards      0\n",
       "hredCards         0\n",
       "aredCards         0\n",
       "hfouls            0\n",
       "afouls            0\n",
       "hsaves            0\n",
       "asaves            0\n",
       "dtype: int64"
      ]
     },
     "execution_count": 122,
     "metadata": {},
     "output_type": "execute_result"
    }
   ],
   "source": [
    "df.isnull().sum()"
   ]
  },
  {
   "cell_type": "code",
   "execution_count": 123,
   "id": "7bd6debf",
   "metadata": {},
   "outputs": [
    {
     "data": {
      "text/plain": [
       "False"
      ]
     },
     "execution_count": 123,
     "metadata": {},
     "output_type": "execute_result"
    }
   ],
   "source": [
    "df.isnull().values.any()"
   ]
  },
  {
   "cell_type": "markdown",
   "id": "fcab50ad",
   "metadata": {},
   "source": [
    "### Conclusion\n",
    "\n",
    "Conclusion: No null values present in the dataframe"
   ]
  },
  {
   "cell_type": "markdown",
   "id": "e45af0f6",
   "metadata": {},
   "source": [
    " - ### Checking for duplicates"
   ]
  },
  {
   "cell_type": "code",
   "execution_count": 124,
   "id": "f21f13cc",
   "metadata": {},
   "outputs": [
    {
     "data": {
      "text/plain": [
       "0"
      ]
     },
     "execution_count": 124,
     "metadata": {},
     "output_type": "execute_result"
    }
   ],
   "source": [
    "df.duplicated().sum()"
   ]
  },
  {
   "cell_type": "markdown",
   "id": "6ac8d32c",
   "metadata": {},
   "source": [
    "### Conclusion: No duplicates present"
   ]
  },
  {
   "cell_type": "code",
   "execution_count": 125,
   "id": "c60b3e2f",
   "metadata": {},
   "outputs": [
    {
     "name": "stdout",
     "output_type": "stream",
     "text": [
      "<class 'pandas.core.frame.DataFrame'>\n",
      "RangeIndex: 1482 entries, 0 to 1481\n",
      "Data columns (total 19 columns):\n",
      " #   Column          Non-Null Count  Dtype \n",
      "---  ------          --------------  ----- \n",
      " 0   year            1482 non-null   int64 \n",
      " 1   hname           1482 non-null   object\n",
      " 2   aname           1482 non-null   object\n",
      " 3   hgoals          1482 non-null   int64 \n",
      " 4   agoals          1482 non-null   int64 \n",
      " 5   hPossesion      1482 non-null   int64 \n",
      " 6   aPossesion      1482 non-null   int64 \n",
      " 7   hshotsOnTarget  1482 non-null   int64 \n",
      " 8   ashotsOnTarget  1482 non-null   int64 \n",
      " 9   hshots          1482 non-null   int64 \n",
      " 10  ashots          1482 non-null   int64 \n",
      " 11  hyellowCards    1482 non-null   int64 \n",
      " 12  ayellowCards    1482 non-null   int64 \n",
      " 13  hredCards       1482 non-null   int64 \n",
      " 14  aredCards       1482 non-null   int64 \n",
      " 15  hfouls          1482 non-null   int64 \n",
      " 16  afouls          1482 non-null   int64 \n",
      " 17  hsaves          1482 non-null   int64 \n",
      " 18  asaves          1482 non-null   int64 \n",
      "dtypes: int64(17), object(2)\n",
      "memory usage: 220.1+ KB\n"
     ]
    }
   ],
   "source": [
    "df.info()"
   ]
  },
  {
   "cell_type": "markdown",
   "id": "7aec0000",
   "metadata": {},
   "source": [
    " - ### Checking for duplicates"
   ]
  },
  {
   "cell_type": "code",
   "execution_count": 126,
   "id": "6f572c70",
   "metadata": {},
   "outputs": [],
   "source": [
    "duplicate_rows = df.duplicated()"
   ]
  },
  {
   "cell_type": "code",
   "execution_count": 127,
   "id": "6d34aa8a",
   "metadata": {},
   "outputs": [
    {
     "data": {
      "text/plain": [
       "0       False\n",
       "1       False\n",
       "2       False\n",
       "3       False\n",
       "4       False\n",
       "        ...  \n",
       "1477    False\n",
       "1478    False\n",
       "1479    False\n",
       "1480    False\n",
       "1481    False\n",
       "Length: 1482, dtype: bool"
      ]
     },
     "execution_count": 127,
     "metadata": {},
     "output_type": "execute_result"
    }
   ],
   "source": [
    "duplicate_rows"
   ]
  },
  {
   "cell_type": "code",
   "execution_count": 128,
   "id": "5272fbc1",
   "metadata": {},
   "outputs": [
    {
     "name": "stdout",
     "output_type": "stream",
     "text": [
      "Number of duplicate rows: 0\n"
     ]
    }
   ],
   "source": [
    "duplicate_rows_count = duplicate_rows.sum()\n",
    "print('Number of duplicate rows:', duplicate_rows_count)"
   ]
  },
  {
   "cell_type": "markdown",
   "id": "5f71c0d8",
   "metadata": {},
   "source": [
    "### Conclusion: No duplicates present"
   ]
  },
  {
   "cell_type": "markdown",
   "id": "bcce0555",
   "metadata": {},
   "source": [
    "### 3. Data Visualizations"
   ]
  },
  {
   "cell_type": "markdown",
   "id": "1ebda41d",
   "metadata": {},
   "source": [
    "### IMPORTING MATPLOTLIB AND SEABORN\n",
    "\n",
    "Thess are data visualisation libraries in python used for better pictorial representation of data to get a better understanding on data."
   ]
  },
  {
   "cell_type": "code",
   "execution_count": 129,
   "id": "2b0d4fea",
   "metadata": {},
   "outputs": [],
   "source": [
    "import matplotlib.pyplot as plt"
   ]
  },
  {
   "cell_type": "markdown",
   "id": "af19f27a",
   "metadata": {},
   "source": [
    "### Average possession percentage for team1 and team2:"
   ]
  },
  {
   "cell_type": "code",
   "execution_count": 130,
   "id": "501afdb4",
   "metadata": {},
   "outputs": [
    {
     "data": {
      "image/png": "[encoded data removed]",
      "text/plain": [
       "<Figure size 432x288 with 1 Axes>"
      ]
     },
     "metadata": {
      "needs_background": "light"
     },
     "output_type": "display_data"
    }
   ],
   "source": [
    "team1_possession = df[\"hPossesion\"]\n",
    "team2_possession = df[\"aPossesion\"]\n",
    "team1 = (\"hname\")\n",
    "team2 = (\"aname\")\n",
    "\n",
    "plt.bar([\"team1\", \"team2\"], [team1_possession.mean(), team2_possession.mean()],color = ['blue','orange'])\n",
    "plt.xlabel(\"Team\")\n",
    "plt.ylabel(\"Average Possession Percentage\")\n",
    "plt.show()"
   ]
  },
  {
   "cell_type": "markdown",
   "id": "fd1e95cb",
   "metadata": {},
   "source": [
    "### Possession versus Goals scored for team1:"
   ]
  },
  {
   "cell_type": "code",
   "execution_count": 131,
   "id": "4c28e21f",
   "metadata": {},
   "outputs": [
    {
     "data": {
      "image/png": "[encoded data removed]",
      "text/plain": [
       "<Figure size 432x288 with 1 Axes>"
      ]
     },
     "metadata": {
      "needs_background": "light"
     },
     "output_type": "display_data"
    }
   ],
   "source": [
    "possession_in_contest = df[\"hPossesion\"]\n",
    "goals_team1 = df[\"hgoals\"]\n",
    "\n",
    "plt.scatter(possession_in_contest, goals_team1, label=\"Team 1\")\n",
    "plt.xlabel(\"Possession versus Goals scored by team1\")\n",
    "plt.ylabel(\"Number of Goals\")\n",
    "plt.legend()\n",
    "plt.show()"
   ]
  },
  {
   "cell_type": "markdown",
   "id": "5e477654",
   "metadata": {},
   "source": [
    "### Possession versus Goals scored for Team 2:"
   ]
  },
  {
   "cell_type": "code",
   "execution_count": 132,
   "id": "c93df0f6",
   "metadata": {},
   "outputs": [
    {
     "data": {
      "image/png": "[encoded data removed]",
      "text/plain": [
       "<Figure size 432x288 with 1 Axes>"
      ]
     },
     "metadata": {
      "needs_background": "light"
     },
     "output_type": "display_data"
    }
   ],
   "source": [
    "possession_in_contest = df[\"aPossesion\"]\n",
    "goals_team1 = df[\"agoals\"]\n",
    "\n",
    "plt.scatter(possession_in_contest, goals_team1, label=\"Team 2\", color = 'orange')\n",
    "plt.xlabel(\"Possession versus Goals scored by team2\")\n",
    "plt.ylabel(\"Number of Goals\")\n",
    "plt.legend()\n",
    "plt.show()"
   ]
  },
  {
   "cell_type": "markdown",
   "id": "036766d7",
   "metadata": {},
   "source": [
    "### Comparison of total attempts, on target attempts, and goals scored for team1 and team2"
   ]
  },
  {
   "cell_type": "code",
   "execution_count": 133,
   "id": "6ff40471",
   "metadata": {},
   "outputs": [
    {
     "data": {
      "image/png": "[encoded data removed]",
      "text/plain": [
       "<Figure size 1080x360 with 3 Axes>"
      ]
     },
     "metadata": {
      "needs_background": "light"
     },
     "output_type": "display_data"
    }
   ],
   "source": [
    "team1_total_attempts = df[\"hshots\"]\n",
    "team2_total_attempts = df[\"ashots\"]\n",
    "team1_on_target = df[\"hshotsOnTarget\"]\n",
    "team2_on_target = df[\"ashotsOnTarget\"]\n",
    "team1_penalty_attempts = df[\"hgoals\"]\n",
    "team2_penalty_attempts = df[\"agoals\"]\n",
    "\n",
    "team1 = (\"hname\")\n",
    "team2 = (\"aname\")\n",
    "\n",
    "fig, axs = plt.subplots(1, 3, figsize=(15, 5))\n",
    "axs[0].bar([\"team1\", \"team2\"], [team1_total_attempts.mean(), team2_total_attempts.mean()],color = ['blue','orange'])\n",
    "axs[0].set_title(\"Total Attempts\")\n",
    "axs[1].bar([\"team1\", \"team2\"], [team1_on_target.mean(), team2_on_target.mean()],color = ['blue','orange'])\n",
    "axs[1].set_title(\"On Target Attempts\")\n",
    "axs[2].bar([\"team1\", \"team2\"], [team1_penalty_attempts.mean(), team2_penalty_attempts.mean()],color = ['blue','orange'])\n",
    "axs[2].set_title(\"Goals\")\n",
    "plt.show()"
   ]
  },
  {
   "cell_type": "markdown",
   "id": "4902dff8",
   "metadata": {},
   "source": [
    "### What is the distribution of goals scored by team1 in World Cups till date?"
   ]
  },
  {
   "cell_type": "code",
   "execution_count": 134,
   "id": "9a484db1",
   "metadata": {},
   "outputs": [
    {
     "data": {
      "image/png": "[encoded data removed]",
      "text/plain": [
       "<Figure size 432x288 with 1 Axes>"
      ]
     },
     "metadata": {
      "needs_background": "light"
     },
     "output_type": "display_data"
    }
   ],
   "source": [
    "plt.hist(df['hgoals'], bins = range(0, df['hgoals'].max()+1))\n",
    "\n",
    "# Add labels and title\n",
    "plt.xlabel('Number of Goals Scored')\n",
    "plt.ylabel('Frequency')\n",
    "plt.title('Distribution of Goals Scored by team1 in World Cups till date')\n",
    "\n",
    "# Show plot\n",
    "plt.show()"
   ]
  },
  {
   "cell_type": "markdown",
   "id": "45aedcb5",
   "metadata": {},
   "source": [
    "### What is the distribution of goals scored by team2 in World Cups till date?"
   ]
  },
  {
   "cell_type": "code",
   "execution_count": 135,
   "id": "1f5a1d86",
   "metadata": {},
   "outputs": [
    {
     "data": {
      "image/png": "[encoded data removed]",
      "text/plain": [
       "<Figure size 432x288 with 1 Axes>"
      ]
     },
     "metadata": {
      "needs_background": "light"
     },
     "output_type": "display_data"
    }
   ],
   "source": [
    "plt.hist(df['agoals'],color = 'orange',bins = range(0, df['agoals'].max()+1))\n",
    "\n",
    "# Add labels and title\n",
    "plt.xlabel('Number of Goals Scored')\n",
    "plt.ylabel('Frequency')\n",
    "plt.title('Distribution of Goals Scored by team2 in FIFA 2022')\n",
    "\n",
    "# Show plot\n",
    "plt.show()"
   ]
  },
  {
   "cell_type": "markdown",
   "id": "a0d0c9a2",
   "metadata": {},
   "source": [
    "# CONCLUSION\n",
    "\n",
    "> In conclusion, the analysis of the FIFA dataset revealed the following insights:\n",
    "\n",
    "On average, team1 has a better posession % than team2.<br>\n",
    "Both team1 and team2 scored more goals when they had more ball possession with team1 scoring more than team2.<br>\n",
    "Team1 had better stats across Total Attempts, On Target Attempts as well as Goals Scored compared to team2.<br>\n",
    "Team2 had a better distribution of goals scored compared to team1.<br>\n",
    "\n",
    "It can be inferred that possession and attempts are crucial factors in determining the number of goals scored in a match, however, it is not the only factor, other factors like team strategies, player skills, and luck also play a role.<br>"
   ]
  }
 ],
 "metadata": {
  "kernelspec": {
   "display_name": "Python 3 (ipykernel)",
   "language": "python",
   "name": "python3"
  },
  "language_info": {
   "codemirror_mode": {
    "name": "ipython",
    "version": 3
   },
   "file_extension": ".py",
   "mimetype": "text/x-python",
   "name": "python",
   "nbconvert_exporter": "python",
   "pygments_lexer": "ipython3",
   "version": "3.9.12"
  }
 },
 "nbformat": 4,
 "nbformat_minor": 5
}
