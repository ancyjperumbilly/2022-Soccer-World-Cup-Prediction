{
 "cells": [
  {
   "cell_type": "markdown",
   "id": "da9adb75",
   "metadata": {},
   "source": [
    "# Data Cleaning\n",
    "This is the full data cleaning report."
   ]
  },
  {
   "cell_type": "markdown",
   "id": "8730c97e",
   "metadata": {},
   "source": [
    "## Import Libraries"
   ]
  },
  {
   "cell_type": "code",
   "execution_count": 26,
   "id": "dd3e9d30",
   "metadata": {},
   "outputs": [],
   "source": [
    "import pandas as pd\n",
    "import matplotlib.pyplot as plt\n",
    "import numpy as np\n",
    "import math"
   ]
  },
  {
   "cell_type": "markdown",
   "id": "9cc17102",
   "metadata": {},
   "source": [
    "## Import CSV Files"
   ]
  },
  {
   "cell_type": "code",
   "execution_count": 27,
   "id": "04b59801",
   "metadata": {},
   "outputs": [],
   "source": [
    "inter_mth=pd.read_csv('international_matches.csv')\n",
    "wld_mth=pd.read_csv('world_cup_matches.csv')\n",
    "fifa_rank=pd.read_csv('2022_world_cup_groups.csv')"
   ]
  },
  {
   "cell_type": "markdown",
   "id": "892972ab",
   "metadata": {},
   "source": [
    "## Brief Overview\n",
    "\n",
    "There are 3 csv files in this analysis and I imported them all. Let me break it down:<br>\n",
    "\n",
    "1st file: international_matches.csv => This is a table of international soccer matches since 1872.<br>\n",
    "2nd file: 2022_world_cup_matches.csv => This is a table of the scheduled matches for the 2022 World Cup.<br>\n",
    "3rd file: 2022_world_cup_groups.csv => This is a table of the current groups for the 2022 World Cup.<br>"
   ]
  },
  {
   "cell_type": "code",
   "execution_count": 28,
   "id": "a3a4a835",
   "metadata": {},
   "outputs": [
    {
     "data": {
      "text/html": [
       "<div>\n",
       "<style scoped>\n",
       "    .dataframe tbody tr th:only-of-type {\n",
       "        vertical-align: middle;\n",
       "    }\n",
       "\n",
       "    .dataframe tbody tr th {\n",
       "        vertical-align: top;\n",
       "    }\n",
       "\n",
       "    .dataframe thead th {\n",
       "        text-align: right;\n",
       "    }\n",
       "</style>\n",
       "<table border=\"1\" class=\"dataframe\">\n",
       "  <thead>\n",
       "    <tr style=\"text-align: right;\">\n",
       "      <th></th>\n",
       "      <th>ID</th>\n",
       "      <th>Tournament</th>\n",
       "      <th>Date</th>\n",
       "      <th>Home Team</th>\n",
       "      <th>Home Goals</th>\n",
       "      <th>Away Goals</th>\n",
       "      <th>Away Team</th>\n",
       "      <th>Winning Team</th>\n",
       "      <th>Losing Team</th>\n",
       "      <th>Win Conditions</th>\n",
       "      <th>Home Stadium</th>\n",
       "    </tr>\n",
       "  </thead>\n",
       "  <tbody>\n",
       "    <tr>\n",
       "      <th>0</th>\n",
       "      <td>1</td>\n",
       "      <td>Friendly</td>\n",
       "      <td>1872-11-30</td>\n",
       "      <td>Scotland</td>\n",
       "      <td>0</td>\n",
       "      <td>0</td>\n",
       "      <td>England</td>\n",
       "      <td>NaN</td>\n",
       "      <td>NaN</td>\n",
       "      <td>NaN</td>\n",
       "      <td>True</td>\n",
       "    </tr>\n",
       "    <tr>\n",
       "      <th>1</th>\n",
       "      <td>2</td>\n",
       "      <td>Friendly</td>\n",
       "      <td>1873-03-08</td>\n",
       "      <td>England</td>\n",
       "      <td>4</td>\n",
       "      <td>2</td>\n",
       "      <td>Scotland</td>\n",
       "      <td>England</td>\n",
       "      <td>Scotland</td>\n",
       "      <td>NaN</td>\n",
       "      <td>True</td>\n",
       "    </tr>\n",
       "    <tr>\n",
       "      <th>2</th>\n",
       "      <td>3</td>\n",
       "      <td>Friendly</td>\n",
       "      <td>1874-03-07</td>\n",
       "      <td>Scotland</td>\n",
       "      <td>2</td>\n",
       "      <td>1</td>\n",
       "      <td>England</td>\n",
       "      <td>Scotland</td>\n",
       "      <td>England</td>\n",
       "      <td>NaN</td>\n",
       "      <td>True</td>\n",
       "    </tr>\n",
       "    <tr>\n",
       "      <th>3</th>\n",
       "      <td>4</td>\n",
       "      <td>Friendly</td>\n",
       "      <td>1875-03-06</td>\n",
       "      <td>England</td>\n",
       "      <td>2</td>\n",
       "      <td>2</td>\n",
       "      <td>Scotland</td>\n",
       "      <td>NaN</td>\n",
       "      <td>NaN</td>\n",
       "      <td>NaN</td>\n",
       "      <td>True</td>\n",
       "    </tr>\n",
       "    <tr>\n",
       "      <th>4</th>\n",
       "      <td>5</td>\n",
       "      <td>Friendly</td>\n",
       "      <td>1876-03-04</td>\n",
       "      <td>Scotland</td>\n",
       "      <td>3</td>\n",
       "      <td>0</td>\n",
       "      <td>England</td>\n",
       "      <td>Scotland</td>\n",
       "      <td>England</td>\n",
       "      <td>NaN</td>\n",
       "      <td>True</td>\n",
       "    </tr>\n",
       "  </tbody>\n",
       "</table>\n",
       "</div>"
      ],
      "text/plain": [
       "   ID Tournament        Date Home Team  Home Goals  Away Goals Away Team  \\\n",
       "0   1   Friendly  1872-11-30  Scotland           0           0   England   \n",
       "1   2   Friendly  1873-03-08   England           4           2  Scotland   \n",
       "2   3   Friendly  1874-03-07  Scotland           2           1   England   \n",
       "3   4   Friendly  1875-03-06   England           2           2  Scotland   \n",
       "4   5   Friendly  1876-03-04  Scotland           3           0   England   \n",
       "\n",
       "  Winning Team Losing Team Win Conditions  Home Stadium  \n",
       "0          NaN         NaN            NaN          True  \n",
       "1      England    Scotland            NaN          True  \n",
       "2     Scotland     England            NaN          True  \n",
       "3          NaN         NaN            NaN          True  \n",
       "4     Scotland     England            NaN          True  "
      ]
     },
     "execution_count": 28,
     "metadata": {},
     "output_type": "execute_result"
    }
   ],
   "source": [
    "inter_mth.head(5)"
   ]
  },
  {
   "cell_type": "code",
   "execution_count": 29,
   "id": "340d6018",
   "metadata": {},
   "outputs": [
    {
     "data": {
      "text/html": [
       "<div>\n",
       "<style scoped>\n",
       "    .dataframe tbody tr th:only-of-type {\n",
       "        vertical-align: middle;\n",
       "    }\n",
       "\n",
       "    .dataframe tbody tr th {\n",
       "        vertical-align: top;\n",
       "    }\n",
       "\n",
       "    .dataframe thead th {\n",
       "        text-align: right;\n",
       "    }\n",
       "</style>\n",
       "<table border=\"1\" class=\"dataframe\">\n",
       "  <thead>\n",
       "    <tr style=\"text-align: right;\">\n",
       "      <th></th>\n",
       "      <th>ID</th>\n",
       "      <th>Year</th>\n",
       "      <th>Date</th>\n",
       "      <th>Stage</th>\n",
       "      <th>Home Team</th>\n",
       "      <th>Home Goals</th>\n",
       "      <th>Away Goals</th>\n",
       "      <th>Away Team</th>\n",
       "      <th>Winning Team</th>\n",
       "      <th>Losing Team</th>\n",
       "      <th>Win Conditions</th>\n",
       "      <th>Host Team</th>\n",
       "    </tr>\n",
       "  </thead>\n",
       "  <tbody>\n",
       "    <tr>\n",
       "      <th>0</th>\n",
       "      <td>1</td>\n",
       "      <td>1930</td>\n",
       "      <td>1930/7/13</td>\n",
       "      <td>Group stage</td>\n",
       "      <td>France</td>\n",
       "      <td>4</td>\n",
       "      <td>1</td>\n",
       "      <td>Mexico</td>\n",
       "      <td>France</td>\n",
       "      <td>Mexico</td>\n",
       "      <td>NaN</td>\n",
       "      <td>False</td>\n",
       "    </tr>\n",
       "    <tr>\n",
       "      <th>1</th>\n",
       "      <td>2</td>\n",
       "      <td>1930</td>\n",
       "      <td>1930/7/13</td>\n",
       "      <td>Group stage</td>\n",
       "      <td>United States</td>\n",
       "      <td>3</td>\n",
       "      <td>0</td>\n",
       "      <td>Belgium</td>\n",
       "      <td>United States</td>\n",
       "      <td>Belgium</td>\n",
       "      <td>NaN</td>\n",
       "      <td>False</td>\n",
       "    </tr>\n",
       "    <tr>\n",
       "      <th>2</th>\n",
       "      <td>3</td>\n",
       "      <td>1930</td>\n",
       "      <td>1930/7/14</td>\n",
       "      <td>Group stage</td>\n",
       "      <td>Yugoslavia</td>\n",
       "      <td>2</td>\n",
       "      <td>1</td>\n",
       "      <td>Brazil</td>\n",
       "      <td>Yugoslavia</td>\n",
       "      <td>Brazil</td>\n",
       "      <td>NaN</td>\n",
       "      <td>False</td>\n",
       "    </tr>\n",
       "    <tr>\n",
       "      <th>3</th>\n",
       "      <td>4</td>\n",
       "      <td>1930</td>\n",
       "      <td>1930/7/14</td>\n",
       "      <td>Group stage</td>\n",
       "      <td>Romania</td>\n",
       "      <td>3</td>\n",
       "      <td>1</td>\n",
       "      <td>Peru</td>\n",
       "      <td>Romania</td>\n",
       "      <td>Peru</td>\n",
       "      <td>NaN</td>\n",
       "      <td>False</td>\n",
       "    </tr>\n",
       "    <tr>\n",
       "      <th>4</th>\n",
       "      <td>5</td>\n",
       "      <td>1930</td>\n",
       "      <td>1930/7/15</td>\n",
       "      <td>Group stage</td>\n",
       "      <td>Argentina</td>\n",
       "      <td>1</td>\n",
       "      <td>0</td>\n",
       "      <td>France</td>\n",
       "      <td>Argentina</td>\n",
       "      <td>France</td>\n",
       "      <td>NaN</td>\n",
       "      <td>False</td>\n",
       "    </tr>\n",
       "  </tbody>\n",
       "</table>\n",
       "</div>"
      ],
      "text/plain": [
       "   ID  Year       Date        Stage      Home Team  Home Goals  Away Goals  \\\n",
       "0   1  1930  1930/7/13  Group stage         France           4           1   \n",
       "1   2  1930  1930/7/13  Group stage  United States           3           0   \n",
       "2   3  1930  1930/7/14  Group stage     Yugoslavia           2           1   \n",
       "3   4  1930  1930/7/14  Group stage        Romania           3           1   \n",
       "4   5  1930  1930/7/15  Group stage      Argentina           1           0   \n",
       "\n",
       "  Away Team   Winning Team Losing Team Win Conditions  Host Team  \n",
       "0    Mexico         France      Mexico            NaN      False  \n",
       "1   Belgium  United States     Belgium            NaN      False  \n",
       "2    Brazil     Yugoslavia      Brazil            NaN      False  \n",
       "3      Peru        Romania        Peru            NaN      False  \n",
       "4    France      Argentina      France            NaN      False  "
      ]
     },
     "execution_count": 29,
     "metadata": {},
     "output_type": "execute_result"
    }
   ],
   "source": [
    "wld_mth.head(5)"
   ]
  },
  {
   "cell_type": "code",
   "execution_count": 30,
   "id": "5d399bb8",
   "metadata": {},
   "outputs": [
    {
     "data": {
      "text/html": [
       "<div>\n",
       "<style scoped>\n",
       "    .dataframe tbody tr th:only-of-type {\n",
       "        vertical-align: middle;\n",
       "    }\n",
       "\n",
       "    .dataframe tbody tr th {\n",
       "        vertical-align: top;\n",
       "    }\n",
       "\n",
       "    .dataframe thead th {\n",
       "        text-align: right;\n",
       "    }\n",
       "</style>\n",
       "<table border=\"1\" class=\"dataframe\">\n",
       "  <thead>\n",
       "    <tr style=\"text-align: right;\">\n",
       "      <th></th>\n",
       "      <th>Group</th>\n",
       "      <th>Team</th>\n",
       "      <th>FIFA Ranking</th>\n",
       "    </tr>\n",
       "  </thead>\n",
       "  <tbody>\n",
       "    <tr>\n",
       "      <th>0</th>\n",
       "      <td>A</td>\n",
       "      <td>Qatar</td>\n",
       "      <td>50</td>\n",
       "    </tr>\n",
       "    <tr>\n",
       "      <th>1</th>\n",
       "      <td>A</td>\n",
       "      <td>Ecuador</td>\n",
       "      <td>44</td>\n",
       "    </tr>\n",
       "    <tr>\n",
       "      <th>2</th>\n",
       "      <td>A</td>\n",
       "      <td>Senegal</td>\n",
       "      <td>18</td>\n",
       "    </tr>\n",
       "    <tr>\n",
       "      <th>3</th>\n",
       "      <td>A</td>\n",
       "      <td>Netherlands</td>\n",
       "      <td>8</td>\n",
       "    </tr>\n",
       "    <tr>\n",
       "      <th>4</th>\n",
       "      <td>B</td>\n",
       "      <td>England</td>\n",
       "      <td>5</td>\n",
       "    </tr>\n",
       "  </tbody>\n",
       "</table>\n",
       "</div>"
      ],
      "text/plain": [
       "  Group         Team  FIFA Ranking\n",
       "0     A        Qatar            50\n",
       "1     A      Ecuador            44\n",
       "2     A      Senegal            18\n",
       "3     A  Netherlands             8\n",
       "4     B      England             5"
      ]
     },
     "execution_count": 30,
     "metadata": {},
     "output_type": "execute_result"
    }
   ],
   "source": [
    "fifa_rank.head(5)"
   ]
  },
  {
   "cell_type": "markdown",
   "id": "1679ba85",
   "metadata": {},
   "source": [
    "## Evaluate data types across all 3 imported files"
   ]
  },
  {
   "cell_type": "code",
   "execution_count": 31,
   "id": "bf776d2e",
   "metadata": {},
   "outputs": [
    {
     "data": {
      "text/plain": [
       "ID                 int64\n",
       "Tournament        object\n",
       "Date              object\n",
       "Home Team         object\n",
       "Home Goals         int64\n",
       "Away Goals         int64\n",
       "Away Team         object\n",
       "Winning Team      object\n",
       "Losing Team       object\n",
       "Win Conditions    object\n",
       "Home Stadium        bool\n",
       "dtype: object"
      ]
     },
     "execution_count": 31,
     "metadata": {},
     "output_type": "execute_result"
    }
   ],
   "source": [
    "inter_mth.dtypes"
   ]
  },
  {
   "cell_type": "code",
   "execution_count": 32,
   "id": "967734f9",
   "metadata": {},
   "outputs": [
    {
     "data": {
      "text/plain": [
       "ID                 int64\n",
       "Year               int64\n",
       "Date              object\n",
       "Stage             object\n",
       "Home Team         object\n",
       "Home Goals         int64\n",
       "Away Goals         int64\n",
       "Away Team         object\n",
       "Winning Team      object\n",
       "Losing Team       object\n",
       "Win Conditions    object\n",
       "Host Team           bool\n",
       "dtype: object"
      ]
     },
     "execution_count": 32,
     "metadata": {},
     "output_type": "execute_result"
    }
   ],
   "source": [
    "wld_mth.dtypes"
   ]
  },
  {
   "cell_type": "code",
   "execution_count": 33,
   "id": "c3410e9a",
   "metadata": {},
   "outputs": [
    {
     "data": {
      "text/plain": [
       "Group           object\n",
       "Team            object\n",
       "FIFA Ranking     int64\n",
       "dtype: object"
      ]
     },
     "execution_count": 33,
     "metadata": {},
     "output_type": "execute_result"
    }
   ],
   "source": [
    "fifa_rank.dtypes"
   ]
  },
  {
   "cell_type": "markdown",
   "id": "ee097353",
   "metadata": {},
   "source": [
    "## Dropping Column\n",
    "I will remove the Win Condition column as it has null data in both international_matches.csv & 2022_world_cup_matches.csv files."
   ]
  },
  {
   "cell_type": "code",
   "execution_count": 34,
   "id": "daaaf032",
   "metadata": {},
   "outputs": [
    {
     "data": {
      "text/html": [
       "<div>\n",
       "<style scoped>\n",
       "    .dataframe tbody tr th:only-of-type {\n",
       "        vertical-align: middle;\n",
       "    }\n",
       "\n",
       "    .dataframe tbody tr th {\n",
       "        vertical-align: top;\n",
       "    }\n",
       "\n",
       "    .dataframe thead th {\n",
       "        text-align: right;\n",
       "    }\n",
       "</style>\n",
       "<table border=\"1\" class=\"dataframe\">\n",
       "  <thead>\n",
       "    <tr style=\"text-align: right;\">\n",
       "      <th></th>\n",
       "      <th>ID</th>\n",
       "      <th>Tournament</th>\n",
       "      <th>Date</th>\n",
       "      <th>Home Team</th>\n",
       "      <th>Home Goals</th>\n",
       "      <th>Away Goals</th>\n",
       "      <th>Away Team</th>\n",
       "      <th>Winning Team</th>\n",
       "      <th>Losing Team</th>\n",
       "      <th>Home Stadium</th>\n",
       "    </tr>\n",
       "  </thead>\n",
       "  <tbody>\n",
       "    <tr>\n",
       "      <th>0</th>\n",
       "      <td>1</td>\n",
       "      <td>Friendly</td>\n",
       "      <td>1872-11-30</td>\n",
       "      <td>Scotland</td>\n",
       "      <td>0</td>\n",
       "      <td>0</td>\n",
       "      <td>England</td>\n",
       "      <td>NaN</td>\n",
       "      <td>NaN</td>\n",
       "      <td>True</td>\n",
       "    </tr>\n",
       "    <tr>\n",
       "      <th>1</th>\n",
       "      <td>2</td>\n",
       "      <td>Friendly</td>\n",
       "      <td>1873-03-08</td>\n",
       "      <td>England</td>\n",
       "      <td>4</td>\n",
       "      <td>2</td>\n",
       "      <td>Scotland</td>\n",
       "      <td>England</td>\n",
       "      <td>Scotland</td>\n",
       "      <td>True</td>\n",
       "    </tr>\n",
       "    <tr>\n",
       "      <th>2</th>\n",
       "      <td>3</td>\n",
       "      <td>Friendly</td>\n",
       "      <td>1874-03-07</td>\n",
       "      <td>Scotland</td>\n",
       "      <td>2</td>\n",
       "      <td>1</td>\n",
       "      <td>England</td>\n",
       "      <td>Scotland</td>\n",
       "      <td>England</td>\n",
       "      <td>True</td>\n",
       "    </tr>\n",
       "    <tr>\n",
       "      <th>3</th>\n",
       "      <td>4</td>\n",
       "      <td>Friendly</td>\n",
       "      <td>1875-03-06</td>\n",
       "      <td>England</td>\n",
       "      <td>2</td>\n",
       "      <td>2</td>\n",
       "      <td>Scotland</td>\n",
       "      <td>NaN</td>\n",
       "      <td>NaN</td>\n",
       "      <td>True</td>\n",
       "    </tr>\n",
       "    <tr>\n",
       "      <th>4</th>\n",
       "      <td>5</td>\n",
       "      <td>Friendly</td>\n",
       "      <td>1876-03-04</td>\n",
       "      <td>Scotland</td>\n",
       "      <td>3</td>\n",
       "      <td>0</td>\n",
       "      <td>England</td>\n",
       "      <td>Scotland</td>\n",
       "      <td>England</td>\n",
       "      <td>True</td>\n",
       "    </tr>\n",
       "  </tbody>\n",
       "</table>\n",
       "</div>"
      ],
      "text/plain": [
       "   ID Tournament        Date Home Team  Home Goals  Away Goals Away Team  \\\n",
       "0   1   Friendly  1872-11-30  Scotland           0           0   England   \n",
       "1   2   Friendly  1873-03-08   England           4           2  Scotland   \n",
       "2   3   Friendly  1874-03-07  Scotland           2           1   England   \n",
       "3   4   Friendly  1875-03-06   England           2           2  Scotland   \n",
       "4   5   Friendly  1876-03-04  Scotland           3           0   England   \n",
       "\n",
       "  Winning Team Losing Team  Home Stadium  \n",
       "0          NaN         NaN          True  \n",
       "1      England    Scotland          True  \n",
       "2     Scotland     England          True  \n",
       "3          NaN         NaN          True  \n",
       "4     Scotland     England          True  "
      ]
     },
     "execution_count": 34,
     "metadata": {},
     "output_type": "execute_result"
    }
   ],
   "source": [
    "inter_mth = inter_mth.drop(columns=['Win Conditions'])\n",
    "inter_mth.head()"
   ]
  },
  {
   "cell_type": "code",
   "execution_count": 35,
   "id": "9014de7e",
   "metadata": {},
   "outputs": [
    {
     "data": {
      "text/html": [
       "<div>\n",
       "<style scoped>\n",
       "    .dataframe tbody tr th:only-of-type {\n",
       "        vertical-align: middle;\n",
       "    }\n",
       "\n",
       "    .dataframe tbody tr th {\n",
       "        vertical-align: top;\n",
       "    }\n",
       "\n",
       "    .dataframe thead th {\n",
       "        text-align: right;\n",
       "    }\n",
       "</style>\n",
       "<table border=\"1\" class=\"dataframe\">\n",
       "  <thead>\n",
       "    <tr style=\"text-align: right;\">\n",
       "      <th></th>\n",
       "      <th>ID</th>\n",
       "      <th>Year</th>\n",
       "      <th>Date</th>\n",
       "      <th>Stage</th>\n",
       "      <th>Home Team</th>\n",
       "      <th>Home Goals</th>\n",
       "      <th>Away Goals</th>\n",
       "      <th>Away Team</th>\n",
       "      <th>Winning Team</th>\n",
       "      <th>Losing Team</th>\n",
       "      <th>Win Conditions</th>\n",
       "      <th>Host Team</th>\n",
       "    </tr>\n",
       "  </thead>\n",
       "  <tbody>\n",
       "    <tr>\n",
       "      <th>0</th>\n",
       "      <td>1</td>\n",
       "      <td>1930</td>\n",
       "      <td>1930/7/13</td>\n",
       "      <td>Group stage</td>\n",
       "      <td>France</td>\n",
       "      <td>4</td>\n",
       "      <td>1</td>\n",
       "      <td>Mexico</td>\n",
       "      <td>France</td>\n",
       "      <td>Mexico</td>\n",
       "      <td>NaN</td>\n",
       "      <td>False</td>\n",
       "    </tr>\n",
       "    <tr>\n",
       "      <th>1</th>\n",
       "      <td>2</td>\n",
       "      <td>1930</td>\n",
       "      <td>1930/7/13</td>\n",
       "      <td>Group stage</td>\n",
       "      <td>United States</td>\n",
       "      <td>3</td>\n",
       "      <td>0</td>\n",
       "      <td>Belgium</td>\n",
       "      <td>United States</td>\n",
       "      <td>Belgium</td>\n",
       "      <td>NaN</td>\n",
       "      <td>False</td>\n",
       "    </tr>\n",
       "    <tr>\n",
       "      <th>2</th>\n",
       "      <td>3</td>\n",
       "      <td>1930</td>\n",
       "      <td>1930/7/14</td>\n",
       "      <td>Group stage</td>\n",
       "      <td>Yugoslavia</td>\n",
       "      <td>2</td>\n",
       "      <td>1</td>\n",
       "      <td>Brazil</td>\n",
       "      <td>Yugoslavia</td>\n",
       "      <td>Brazil</td>\n",
       "      <td>NaN</td>\n",
       "      <td>False</td>\n",
       "    </tr>\n",
       "    <tr>\n",
       "      <th>3</th>\n",
       "      <td>4</td>\n",
       "      <td>1930</td>\n",
       "      <td>1930/7/14</td>\n",
       "      <td>Group stage</td>\n",
       "      <td>Romania</td>\n",
       "      <td>3</td>\n",
       "      <td>1</td>\n",
       "      <td>Peru</td>\n",
       "      <td>Romania</td>\n",
       "      <td>Peru</td>\n",
       "      <td>NaN</td>\n",
       "      <td>False</td>\n",
       "    </tr>\n",
       "    <tr>\n",
       "      <th>4</th>\n",
       "      <td>5</td>\n",
       "      <td>1930</td>\n",
       "      <td>1930/7/15</td>\n",
       "      <td>Group stage</td>\n",
       "      <td>Argentina</td>\n",
       "      <td>1</td>\n",
       "      <td>0</td>\n",
       "      <td>France</td>\n",
       "      <td>Argentina</td>\n",
       "      <td>France</td>\n",
       "      <td>NaN</td>\n",
       "      <td>False</td>\n",
       "    </tr>\n",
       "  </tbody>\n",
       "</table>\n",
       "</div>"
      ],
      "text/plain": [
       "   ID  Year       Date        Stage      Home Team  Home Goals  Away Goals  \\\n",
       "0   1  1930  1930/7/13  Group stage         France           4           1   \n",
       "1   2  1930  1930/7/13  Group stage  United States           3           0   \n",
       "2   3  1930  1930/7/14  Group stage     Yugoslavia           2           1   \n",
       "3   4  1930  1930/7/14  Group stage        Romania           3           1   \n",
       "4   5  1930  1930/7/15  Group stage      Argentina           1           0   \n",
       "\n",
       "  Away Team   Winning Team Losing Team Win Conditions  Host Team  \n",
       "0    Mexico         France      Mexico            NaN      False  \n",
       "1   Belgium  United States     Belgium            NaN      False  \n",
       "2    Brazil     Yugoslavia      Brazil            NaN      False  \n",
       "3      Peru        Romania        Peru            NaN      False  \n",
       "4    France      Argentina      France            NaN      False  "
      ]
     },
     "execution_count": 35,
     "metadata": {},
     "output_type": "execute_result"
    }
   ],
   "source": [
    "wld_math = wld_mth.drop(columns=['Win Conditions'])\n",
    "wld_mth.head()"
   ]
  },
  {
   "cell_type": "markdown",
   "id": "cb7dd43b",
   "metadata": {},
   "source": [
    "## Converting Date Column into Year"
   ]
  },
  {
   "cell_type": "code",
   "execution_count": 36,
   "id": "20243d1a",
   "metadata": {},
   "outputs": [],
   "source": [
    "inter_mth['Year']=pd.DatetimeIndex(inter_mth['Date']).year"
   ]
  },
  {
   "cell_type": "code",
   "execution_count": 37,
   "id": "16c67e1c",
   "metadata": {},
   "outputs": [
    {
     "data": {
      "text/plain": [
       "['Qatar',\n",
       " 'Ecuador',\n",
       " 'Senegal',\n",
       " 'Netherlands',\n",
       " 'England',\n",
       " 'Iran',\n",
       " 'United States',\n",
       " 'Wales',\n",
       " 'Argentina',\n",
       " 'Saudi Arabia',\n",
       " 'Mexico',\n",
       " 'Poland',\n",
       " 'France',\n",
       " 'Australia',\n",
       " 'Denmark',\n",
       " 'Tunisia',\n",
       " 'Spain',\n",
       " 'Costa Rica',\n",
       " 'Germany',\n",
       " 'Japan',\n",
       " 'Belgium',\n",
       " 'Canada',\n",
       " 'Morocco',\n",
       " 'Croatia',\n",
       " 'Brazil',\n",
       " 'Serbia',\n",
       " 'Switzerland',\n",
       " 'Cameroon',\n",
       " 'Portugal',\n",
       " 'Ghana',\n",
       " 'Uruguay',\n",
       " 'South Korea']"
      ]
     },
     "execution_count": 37,
     "metadata": {},
     "output_type": "execute_result"
    }
   ],
   "source": [
    "grp=fifa_rank.groupby('Group')\n",
    "Fifa_grp_2022=list(fifa_rank['Team'].unique())\n",
    "Fifa_grp_2022"
   ]
  },
  {
   "cell_type": "markdown",
   "id": "b4b9bd5a",
   "metadata": {},
   "source": [
    "## Final Shape of the Data Frames:"
   ]
  },
  {
   "cell_type": "code",
   "execution_count": 40,
   "id": "1bdef1e6",
   "metadata": {},
   "outputs": [
    {
     "data": {
      "text/plain": [
       "(17769, 11)"
      ]
     },
     "execution_count": 40,
     "metadata": {},
     "output_type": "execute_result"
    }
   ],
   "source": [
    "inter_mth.shape"
   ]
  },
  {
   "cell_type": "code",
   "execution_count": 41,
   "id": "90c9580b",
   "metadata": {},
   "outputs": [
    {
     "data": {
      "text/plain": [
       "(900, 11)"
      ]
     },
     "execution_count": 41,
     "metadata": {},
     "output_type": "execute_result"
    }
   ],
   "source": [
    "wld_math.shape"
   ]
  },
  {
   "cell_type": "code",
   "execution_count": null,
   "id": "2659b674",
   "metadata": {},
   "outputs": [],
   "source": []
  }
 ],
 "metadata": {
  "kernelspec": {
   "display_name": "Python 3 (ipykernel)",
   "language": "python",
   "name": "python3"
  },
  "language_info": {
   "codemirror_mode": {
    "name": "ipython",
    "version": 3
   },
   "file_extension": ".py",
   "mimetype": "text/x-python",
   "name": "python",
   "nbconvert_exporter": "python",
   "pygments_lexer": "ipython3",
   "version": "3.9.12"
  }
 },
 "nbformat": 4,
 "nbformat_minor": 5
}
