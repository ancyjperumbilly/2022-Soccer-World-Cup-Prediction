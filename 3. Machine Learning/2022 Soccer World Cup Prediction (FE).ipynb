{
 "cells": [
  {
   "cell_type": "markdown",
   "id": "289eee62",
   "metadata": {},
   "source": [
    "# Featured Engineering \n",
    "\n",
    "The objective of this segment of the exercise is prepare the data to apply feature engineering methods that will create the database in order to apply Machine Learning algorithms to predict the winner of the 2022 Soccer World Cup."
   ]
  },
  {
   "cell_type": "markdown",
   "id": "f6314e3a",
   "metadata": {},
   "source": [
    "## Import Libraries"
   ]
  },
  {
   "cell_type": "code",
   "execution_count": 460,
   "id": "03604893",
   "metadata": {},
   "outputs": [],
   "source": [
    "import pandas as pd\n",
    "import numpy as np"
   ]
  },
  {
   "cell_type": "markdown",
   "id": "34446f2d",
   "metadata": {},
   "source": [
    "### Data Preparation\n",
    "\n",
    "The project uses two datasets:\n",
    "1. results.csv => International football results from 1872 to 2022\n",
    "2. fifa_ranking-2022-12-22.csv => FIFA World Ranking 1992-2022"
   ]
  },
  {
   "cell_type": "markdown",
   "id": "ce1854e2",
   "metadata": {},
   "source": [
    "### Import International Footbal Results CSV"
   ]
  },
  {
   "cell_type": "code",
   "execution_count": 461,
   "id": "c6534473",
   "metadata": {},
   "outputs": [
    {
     "data": {
      "text/html": [
       "<div>\n",
       "<style scoped>\n",
       "    .dataframe tbody tr th:only-of-type {\n",
       "        vertical-align: middle;\n",
       "    }\n",
       "\n",
       "    .dataframe tbody tr th {\n",
       "        vertical-align: top;\n",
       "    }\n",
       "\n",
       "    .dataframe thead th {\n",
       "        text-align: right;\n",
       "    }\n",
       "</style>\n",
       "<table border=\"1\" class=\"dataframe\">\n",
       "  <thead>\n",
       "    <tr style=\"text-align: right;\">\n",
       "      <th></th>\n",
       "      <th>date</th>\n",
       "      <th>home_team</th>\n",
       "      <th>away_team</th>\n",
       "      <th>home_score</th>\n",
       "      <th>away_score</th>\n",
       "      <th>tournament</th>\n",
       "      <th>city</th>\n",
       "      <th>country</th>\n",
       "      <th>neutral</th>\n",
       "    </tr>\n",
       "  </thead>\n",
       "  <tbody>\n",
       "    <tr>\n",
       "      <th>0</th>\n",
       "      <td>1872-11-30</td>\n",
       "      <td>Scotland</td>\n",
       "      <td>England</td>\n",
       "      <td>0</td>\n",
       "      <td>0</td>\n",
       "      <td>Friendly</td>\n",
       "      <td>Glasgow</td>\n",
       "      <td>Scotland</td>\n",
       "      <td>False</td>\n",
       "    </tr>\n",
       "    <tr>\n",
       "      <th>1</th>\n",
       "      <td>1873-03-08</td>\n",
       "      <td>England</td>\n",
       "      <td>Scotland</td>\n",
       "      <td>4</td>\n",
       "      <td>2</td>\n",
       "      <td>Friendly</td>\n",
       "      <td>London</td>\n",
       "      <td>England</td>\n",
       "      <td>False</td>\n",
       "    </tr>\n",
       "    <tr>\n",
       "      <th>2</th>\n",
       "      <td>1874-03-07</td>\n",
       "      <td>Scotland</td>\n",
       "      <td>England</td>\n",
       "      <td>2</td>\n",
       "      <td>1</td>\n",
       "      <td>Friendly</td>\n",
       "      <td>Glasgow</td>\n",
       "      <td>Scotland</td>\n",
       "      <td>False</td>\n",
       "    </tr>\n",
       "    <tr>\n",
       "      <th>3</th>\n",
       "      <td>1875-03-06</td>\n",
       "      <td>England</td>\n",
       "      <td>Scotland</td>\n",
       "      <td>2</td>\n",
       "      <td>2</td>\n",
       "      <td>Friendly</td>\n",
       "      <td>London</td>\n",
       "      <td>England</td>\n",
       "      <td>False</td>\n",
       "    </tr>\n",
       "    <tr>\n",
       "      <th>4</th>\n",
       "      <td>1876-03-04</td>\n",
       "      <td>Scotland</td>\n",
       "      <td>England</td>\n",
       "      <td>3</td>\n",
       "      <td>0</td>\n",
       "      <td>Friendly</td>\n",
       "      <td>Glasgow</td>\n",
       "      <td>Scotland</td>\n",
       "      <td>False</td>\n",
       "    </tr>\n",
       "  </tbody>\n",
       "</table>\n",
       "</div>"
      ],
      "text/plain": [
       "         date home_team away_team  home_score  away_score tournament     city  \\\n",
       "0  1872-11-30  Scotland   England           0           0   Friendly  Glasgow   \n",
       "1  1873-03-08   England  Scotland           4           2   Friendly   London   \n",
       "2  1874-03-07  Scotland   England           2           1   Friendly  Glasgow   \n",
       "3  1875-03-06   England  Scotland           2           2   Friendly   London   \n",
       "4  1876-03-04  Scotland   England           3           0   Friendly  Glasgow   \n",
       "\n",
       "    country  neutral  \n",
       "0  Scotland    False  \n",
       "1   England    False  \n",
       "2  Scotland    False  \n",
       "3   England    False  \n",
       "4  Scotland    False  "
      ]
     },
     "execution_count": 461,
     "metadata": {},
     "output_type": "execute_result"
    }
   ],
   "source": [
    "df = pd.read_csv('results.csv')\n",
    "df.head()"
   ]
  },
  {
   "cell_type": "code",
   "execution_count": 462,
   "id": "e5e44350",
   "metadata": {},
   "outputs": [],
   "source": [
    "df[\"date\"] = pd.to_datetime(df[\"date\"])"
   ]
  },
  {
   "cell_type": "code",
   "execution_count": 463,
   "id": "28199e79",
   "metadata": {},
   "outputs": [
    {
     "data": {
      "text/plain": [
       "date          0\n",
       "home_team     0\n",
       "away_team     0\n",
       "home_score    0\n",
       "away_score    0\n",
       "tournament    0\n",
       "city          0\n",
       "country       0\n",
       "neutral       0\n",
       "dtype: int64"
      ]
     },
     "execution_count": 463,
     "metadata": {},
     "output_type": "execute_result"
    }
   ],
   "source": [
    "df.isna().sum()"
   ]
  },
  {
   "cell_type": "code",
   "execution_count": 464,
   "id": "5c66c229",
   "metadata": {},
   "outputs": [],
   "source": [
    "df.dropna(inplace=True)"
   ]
  },
  {
   "cell_type": "code",
   "execution_count": 465,
   "id": "acb376b9",
   "metadata": {},
   "outputs": [
    {
     "data": {
      "text/plain": [
       "date          datetime64[ns]\n",
       "home_team             object\n",
       "away_team             object\n",
       "home_score             int64\n",
       "away_score             int64\n",
       "tournament            object\n",
       "city                  object\n",
       "country               object\n",
       "neutral                 bool\n",
       "dtype: object"
      ]
     },
     "execution_count": 465,
     "metadata": {},
     "output_type": "execute_result"
    }
   ],
   "source": [
    "df.dtypes"
   ]
  },
  {
   "cell_type": "markdown",
   "id": "b039b3c6",
   "metadata": {},
   "source": [
    "The dataset used will be the FIFA Games between 2018, from after the 2018 World Cup to the last games before the 2022 World Cup. The idea is to analyze just the games played at the preparation and classification to the World Cup."
   ]
  },
  {
   "cell_type": "code",
   "execution_count": 466,
   "id": "3811a175",
   "metadata": {},
   "outputs": [
    {
     "data": {
      "text/html": [
       "<div>\n",
       "<style scoped>\n",
       "    .dataframe tbody tr th:only-of-type {\n",
       "        vertical-align: middle;\n",
       "    }\n",
       "\n",
       "    .dataframe tbody tr th {\n",
       "        vertical-align: top;\n",
       "    }\n",
       "\n",
       "    .dataframe thead th {\n",
       "        text-align: right;\n",
       "    }\n",
       "</style>\n",
       "<table border=\"1\" class=\"dataframe\">\n",
       "  <thead>\n",
       "    <tr style=\"text-align: right;\">\n",
       "      <th></th>\n",
       "      <th>date</th>\n",
       "      <th>home_team</th>\n",
       "      <th>away_team</th>\n",
       "      <th>home_score</th>\n",
       "      <th>away_score</th>\n",
       "      <th>tournament</th>\n",
       "      <th>city</th>\n",
       "      <th>country</th>\n",
       "      <th>neutral</th>\n",
       "    </tr>\n",
       "  </thead>\n",
       "  <tbody>\n",
       "    <tr>\n",
       "      <th>44529</th>\n",
       "      <td>2023-03-28</td>\n",
       "      <td>United Arab Emirates</td>\n",
       "      <td>Thailand</td>\n",
       "      <td>2</td>\n",
       "      <td>0</td>\n",
       "      <td>Friendly</td>\n",
       "      <td>Abu Dhabi</td>\n",
       "      <td>United Arab Emirates</td>\n",
       "      <td>False</td>\n",
       "    </tr>\n",
       "    <tr>\n",
       "      <th>44530</th>\n",
       "      <td>2023-03-28</td>\n",
       "      <td>Uzbekistan</td>\n",
       "      <td>Venezuela</td>\n",
       "      <td>1</td>\n",
       "      <td>1</td>\n",
       "      <td>Friendly</td>\n",
       "      <td>Jeddah</td>\n",
       "      <td>Saudi Arabia</td>\n",
       "      <td>True</td>\n",
       "    </tr>\n",
       "    <tr>\n",
       "      <th>44531</th>\n",
       "      <td>2023-03-28</td>\n",
       "      <td>Eswatini</td>\n",
       "      <td>Cape Verde</td>\n",
       "      <td>0</td>\n",
       "      <td>1</td>\n",
       "      <td>African Cup of Nations qualification</td>\n",
       "      <td>Mbombela</td>\n",
       "      <td>South Africa</td>\n",
       "      <td>True</td>\n",
       "    </tr>\n",
       "    <tr>\n",
       "      <th>44533</th>\n",
       "      <td>2023-03-28</td>\n",
       "      <td>Namibia</td>\n",
       "      <td>Cameroon</td>\n",
       "      <td>2</td>\n",
       "      <td>1</td>\n",
       "      <td>African Cup of Nations qualification</td>\n",
       "      <td>Soweto</td>\n",
       "      <td>South Africa</td>\n",
       "      <td>True</td>\n",
       "    </tr>\n",
       "    <tr>\n",
       "      <th>44556</th>\n",
       "      <td>2023-03-29</td>\n",
       "      <td>Rwanda</td>\n",
       "      <td>Benin</td>\n",
       "      <td>1</td>\n",
       "      <td>1</td>\n",
       "      <td>African Cup of Nations qualification</td>\n",
       "      <td>Kigali</td>\n",
       "      <td>Rwanda</td>\n",
       "      <td>False</td>\n",
       "    </tr>\n",
       "  </tbody>\n",
       "</table>\n",
       "</div>"
      ],
      "text/plain": [
       "            date             home_team   away_team  home_score  away_score  \\\n",
       "44529 2023-03-28  United Arab Emirates    Thailand           2           0   \n",
       "44530 2023-03-28            Uzbekistan   Venezuela           1           1   \n",
       "44531 2023-03-28              Eswatini  Cape Verde           0           1   \n",
       "44533 2023-03-28               Namibia    Cameroon           2           1   \n",
       "44556 2023-03-29                Rwanda       Benin           1           1   \n",
       "\n",
       "                                 tournament       city               country  \\\n",
       "44529                              Friendly  Abu Dhabi  United Arab Emirates   \n",
       "44530                              Friendly     Jeddah          Saudi Arabia   \n",
       "44531  African Cup of Nations qualification   Mbombela          South Africa   \n",
       "44533  African Cup of Nations qualification     Soweto          South Africa   \n",
       "44556  African Cup of Nations qualification     Kigali                Rwanda   \n",
       "\n",
       "       neutral  \n",
       "44529    False  \n",
       "44530     True  \n",
       "44531     True  \n",
       "44533     True  \n",
       "44556    False  "
      ]
     },
     "execution_count": 466,
     "metadata": {},
     "output_type": "execute_result"
    }
   ],
   "source": [
    "df.sort_values(\"date\").tail()"
   ]
  },
  {
   "cell_type": "code",
   "execution_count": 467,
   "id": "d166c765",
   "metadata": {},
   "outputs": [],
   "source": [
    "df = df[(df[\"date\"] >= \"2018-8-1\")].reset_index(drop=True)"
   ]
  },
  {
   "cell_type": "code",
   "execution_count": 468,
   "id": "84efefc5",
   "metadata": {},
   "outputs": [
    {
     "data": {
      "text/html": [
       "<div>\n",
       "<style scoped>\n",
       "    .dataframe tbody tr th:only-of-type {\n",
       "        vertical-align: middle;\n",
       "    }\n",
       "\n",
       "    .dataframe tbody tr th {\n",
       "        vertical-align: top;\n",
       "    }\n",
       "\n",
       "    .dataframe thead th {\n",
       "        text-align: right;\n",
       "    }\n",
       "</style>\n",
       "<table border=\"1\" class=\"dataframe\">\n",
       "  <thead>\n",
       "    <tr style=\"text-align: right;\">\n",
       "      <th></th>\n",
       "      <th>date</th>\n",
       "      <th>home_team</th>\n",
       "      <th>away_team</th>\n",
       "      <th>home_score</th>\n",
       "      <th>away_score</th>\n",
       "      <th>tournament</th>\n",
       "      <th>city</th>\n",
       "      <th>country</th>\n",
       "      <th>neutral</th>\n",
       "    </tr>\n",
       "  </thead>\n",
       "  <tbody>\n",
       "    <tr>\n",
       "      <th>4103</th>\n",
       "      <td>2023-03-28</td>\n",
       "      <td>United Arab Emirates</td>\n",
       "      <td>Thailand</td>\n",
       "      <td>2</td>\n",
       "      <td>0</td>\n",
       "      <td>Friendly</td>\n",
       "      <td>Abu Dhabi</td>\n",
       "      <td>United Arab Emirates</td>\n",
       "      <td>False</td>\n",
       "    </tr>\n",
       "    <tr>\n",
       "      <th>4104</th>\n",
       "      <td>2023-03-28</td>\n",
       "      <td>Uzbekistan</td>\n",
       "      <td>Venezuela</td>\n",
       "      <td>1</td>\n",
       "      <td>1</td>\n",
       "      <td>Friendly</td>\n",
       "      <td>Jeddah</td>\n",
       "      <td>Saudi Arabia</td>\n",
       "      <td>True</td>\n",
       "    </tr>\n",
       "    <tr>\n",
       "      <th>4105</th>\n",
       "      <td>2023-03-28</td>\n",
       "      <td>Eswatini</td>\n",
       "      <td>Cape Verde</td>\n",
       "      <td>0</td>\n",
       "      <td>1</td>\n",
       "      <td>African Cup of Nations qualification</td>\n",
       "      <td>Mbombela</td>\n",
       "      <td>South Africa</td>\n",
       "      <td>True</td>\n",
       "    </tr>\n",
       "    <tr>\n",
       "      <th>4107</th>\n",
       "      <td>2023-03-28</td>\n",
       "      <td>Namibia</td>\n",
       "      <td>Cameroon</td>\n",
       "      <td>2</td>\n",
       "      <td>1</td>\n",
       "      <td>African Cup of Nations qualification</td>\n",
       "      <td>Soweto</td>\n",
       "      <td>South Africa</td>\n",
       "      <td>True</td>\n",
       "    </tr>\n",
       "    <tr>\n",
       "      <th>4130</th>\n",
       "      <td>2023-03-29</td>\n",
       "      <td>Rwanda</td>\n",
       "      <td>Benin</td>\n",
       "      <td>1</td>\n",
       "      <td>1</td>\n",
       "      <td>African Cup of Nations qualification</td>\n",
       "      <td>Kigali</td>\n",
       "      <td>Rwanda</td>\n",
       "      <td>False</td>\n",
       "    </tr>\n",
       "  </tbody>\n",
       "</table>\n",
       "</div>"
      ],
      "text/plain": [
       "           date             home_team   away_team  home_score  away_score  \\\n",
       "4103 2023-03-28  United Arab Emirates    Thailand           2           0   \n",
       "4104 2023-03-28            Uzbekistan   Venezuela           1           1   \n",
       "4105 2023-03-28              Eswatini  Cape Verde           0           1   \n",
       "4107 2023-03-28               Namibia    Cameroon           2           1   \n",
       "4130 2023-03-29                Rwanda       Benin           1           1   \n",
       "\n",
       "                                tournament       city               country  \\\n",
       "4103                              Friendly  Abu Dhabi  United Arab Emirates   \n",
       "4104                              Friendly     Jeddah          Saudi Arabia   \n",
       "4105  African Cup of Nations qualification   Mbombela          South Africa   \n",
       "4107  African Cup of Nations qualification     Soweto          South Africa   \n",
       "4130  African Cup of Nations qualification     Kigali                Rwanda   \n",
       "\n",
       "      neutral  \n",
       "4103    False  \n",
       "4104     True  \n",
       "4105     True  \n",
       "4107     True  \n",
       "4130    False  "
      ]
     },
     "execution_count": 468,
     "metadata": {},
     "output_type": "execute_result"
    }
   ],
   "source": [
    "df.sort_values(\"date\").tail()"
   ]
  },
  {
   "cell_type": "code",
   "execution_count": 469,
   "id": "a60f08d8",
   "metadata": {},
   "outputs": [
    {
     "data": {
      "text/plain": [
       "United States               49\n",
       "Mexico                      44\n",
       "Qatar                       43\n",
       "Japan                       42\n",
       "United Arab Emirates        41\n",
       "                            ..\n",
       "Chameria                     1\n",
       "Tonga                        1\n",
       "Alderney                     1\n",
       "Saint Helena                 1\n",
       "Northern Mariana Islands     1\n",
       "Name: home_team, Length: 247, dtype: int64"
      ]
     },
     "execution_count": 469,
     "metadata": {},
     "output_type": "execute_result"
    }
   ],
   "source": [
    "df.home_team.value_counts()"
   ]
  },
  {
   "cell_type": "markdown",
   "id": "f975b34b",
   "metadata": {},
   "source": [
    "### Import FIFA Ranking CSV"
   ]
  },
  {
   "cell_type": "code",
   "execution_count": 470,
   "id": "6afd75a6",
   "metadata": {},
   "outputs": [],
   "source": [
    "rank = pd.read_csv(\"fifa_ranking-2022-12-22.csv\")"
   ]
  },
  {
   "cell_type": "code",
   "execution_count": 471,
   "id": "a16a8674",
   "metadata": {},
   "outputs": [],
   "source": [
    "rank[\"rank_date\"] = pd.to_datetime(rank[\"rank_date\"])\n",
    "rank = rank[(rank[\"rank_date\"] >= \"2018-8-1\")].reset_index(drop=True)"
   ]
  },
  {
   "cell_type": "markdown",
   "id": "ec9de521",
   "metadata": {},
   "source": [
    "Some teams in the World Cup have different names in the ranking's dataset. So, it's needed to adjust."
   ]
  },
  {
   "cell_type": "code",
   "execution_count": 472,
   "id": "33eb09f2",
   "metadata": {},
   "outputs": [],
   "source": [
    "rank[\"country_full\"] = rank[\"country_full\"].str.replace(\"IR Iran\", \"Iran\").str.replace(\"Korea Republic\", \"South Korea\").str.replace(\"USA\", \"United States\")"
   ]
  },
  {
   "cell_type": "markdown",
   "id": "12fb030e",
   "metadata": {},
   "source": [
    "The merge is made in order to get a dataset FIFA games and its rankings."
   ]
  },
  {
   "cell_type": "code",
   "execution_count": 473,
   "id": "8320d76f",
   "metadata": {},
   "outputs": [],
   "source": [
    "rank = rank.set_index(['rank_date']).groupby(['country_full'], group_keys=False).resample('D').first().fillna(method='ffill').reset_index()"
   ]
  },
  {
   "cell_type": "code",
   "execution_count": 474,
   "id": "e9c5ca6d",
   "metadata": {},
   "outputs": [],
   "source": [
    "df_wc_ranked = df.merge(rank[[\"country_full\", \"total_points\", \"previous_points\", \"rank\", \"rank_change\", \"rank_date\"]], left_on=[\"date\", \"home_team\"], right_on=[\"rank_date\", \"country_full\"]).drop([\"rank_date\", \"country_full\"], axis=1)\n",
    "\n",
    "df_wc_ranked = df_wc_ranked.merge(rank[[\"country_full\", \"total_points\", \"previous_points\", \"rank\", \"rank_change\", \"rank_date\"]], left_on=[\"date\", \"away_team\"], right_on=[\"rank_date\", \"country_full\"], suffixes=(\"_home\", \"_away\")).drop([\"rank_date\", \"country_full\"], axis=1)"
   ]
  },
  {
   "cell_type": "code",
   "execution_count": 475,
   "id": "1e667528",
   "metadata": {},
   "outputs": [
    {
     "data": {
      "text/html": [
       "<div>\n",
       "<style scoped>\n",
       "    .dataframe tbody tr th:only-of-type {\n",
       "        vertical-align: middle;\n",
       "    }\n",
       "\n",
       "    .dataframe tbody tr th {\n",
       "        vertical-align: top;\n",
       "    }\n",
       "\n",
       "    .dataframe thead th {\n",
       "        text-align: right;\n",
       "    }\n",
       "</style>\n",
       "<table border=\"1\" class=\"dataframe\">\n",
       "  <thead>\n",
       "    <tr style=\"text-align: right;\">\n",
       "      <th></th>\n",
       "      <th>date</th>\n",
       "      <th>home_team</th>\n",
       "      <th>away_team</th>\n",
       "      <th>home_score</th>\n",
       "      <th>away_score</th>\n",
       "      <th>tournament</th>\n",
       "      <th>city</th>\n",
       "      <th>country</th>\n",
       "      <th>neutral</th>\n",
       "      <th>total_points_home</th>\n",
       "      <th>previous_points_home</th>\n",
       "      <th>rank_home</th>\n",
       "      <th>rank_change_home</th>\n",
       "      <th>total_points_away</th>\n",
       "      <th>previous_points_away</th>\n",
       "      <th>rank_away</th>\n",
       "      <th>rank_change_away</th>\n",
       "    </tr>\n",
       "  </thead>\n",
       "  <tbody>\n",
       "    <tr>\n",
       "      <th>2896</th>\n",
       "      <td>2022-03-29</td>\n",
       "      <td>Bolivia</td>\n",
       "      <td>Brazil</td>\n",
       "      <td>0</td>\n",
       "      <td>4</td>\n",
       "      <td>FIFA World Cup qualification</td>\n",
       "      <td>La Paz</td>\n",
       "      <td>Bolivia</td>\n",
       "      <td>False</td>\n",
       "      <td>1308.12</td>\n",
       "      <td>1324.21</td>\n",
       "      <td>76.0</td>\n",
       "      <td>-1.0</td>\n",
       "      <td>1823.42</td>\n",
       "      <td>1826.35</td>\n",
       "      <td>2.0</td>\n",
       "      <td>0.0</td>\n",
       "    </tr>\n",
       "    <tr>\n",
       "      <th>2988</th>\n",
       "      <td>2022-06-02</td>\n",
       "      <td>South Korea</td>\n",
       "      <td>Brazil</td>\n",
       "      <td>1</td>\n",
       "      <td>5</td>\n",
       "      <td>Friendly</td>\n",
       "      <td>Seoul</td>\n",
       "      <td>South Korea</td>\n",
       "      <td>False</td>\n",
       "      <td>1519.54</td>\n",
       "      <td>1522.85</td>\n",
       "      <td>29.0</td>\n",
       "      <td>0.0</td>\n",
       "      <td>1832.69</td>\n",
       "      <td>1823.42</td>\n",
       "      <td>1.0</td>\n",
       "      <td>-1.0</td>\n",
       "    </tr>\n",
       "    <tr>\n",
       "      <th>3056</th>\n",
       "      <td>2022-06-06</td>\n",
       "      <td>Japan</td>\n",
       "      <td>Brazil</td>\n",
       "      <td>0</td>\n",
       "      <td>1</td>\n",
       "      <td>Friendly</td>\n",
       "      <td>Tokyo</td>\n",
       "      <td>Japan</td>\n",
       "      <td>False</td>\n",
       "      <td>1553.44</td>\n",
       "      <td>1549.82</td>\n",
       "      <td>23.0</td>\n",
       "      <td>0.0</td>\n",
       "      <td>1832.69</td>\n",
       "      <td>1823.42</td>\n",
       "      <td>1.0</td>\n",
       "      <td>-1.0</td>\n",
       "    </tr>\n",
       "    <tr>\n",
       "      <th>3234</th>\n",
       "      <td>2022-09-23</td>\n",
       "      <td>Brazil</td>\n",
       "      <td>Ghana</td>\n",
       "      <td>3</td>\n",
       "      <td>0</td>\n",
       "      <td>Friendly</td>\n",
       "      <td>Le Havre</td>\n",
       "      <td>France</td>\n",
       "      <td>True</td>\n",
       "      <td>1837.56</td>\n",
       "      <td>1837.56</td>\n",
       "      <td>1.0</td>\n",
       "      <td>0.0</td>\n",
       "      <td>1393.47</td>\n",
       "      <td>1389.68</td>\n",
       "      <td>60.0</td>\n",
       "      <td>0.0</td>\n",
       "    </tr>\n",
       "    <tr>\n",
       "      <th>3302</th>\n",
       "      <td>2022-09-27</td>\n",
       "      <td>Brazil</td>\n",
       "      <td>Tunisia</td>\n",
       "      <td>5</td>\n",
       "      <td>1</td>\n",
       "      <td>Friendly</td>\n",
       "      <td>Paris</td>\n",
       "      <td>France</td>\n",
       "      <td>True</td>\n",
       "      <td>1837.56</td>\n",
       "      <td>1837.56</td>\n",
       "      <td>1.0</td>\n",
       "      <td>0.0</td>\n",
       "      <td>1507.86</td>\n",
       "      <td>1507.86</td>\n",
       "      <td>30.0</td>\n",
       "      <td>0.0</td>\n",
       "    </tr>\n",
       "    <tr>\n",
       "      <th>3438</th>\n",
       "      <td>2022-11-24</td>\n",
       "      <td>Brazil</td>\n",
       "      <td>Serbia</td>\n",
       "      <td>2</td>\n",
       "      <td>0</td>\n",
       "      <td>FIFA World Cup</td>\n",
       "      <td>Lusail</td>\n",
       "      <td>Qatar</td>\n",
       "      <td>True</td>\n",
       "      <td>1841.30</td>\n",
       "      <td>1837.56</td>\n",
       "      <td>1.0</td>\n",
       "      <td>0.0</td>\n",
       "      <td>1563.62</td>\n",
       "      <td>1549.53</td>\n",
       "      <td>21.0</td>\n",
       "      <td>-4.0</td>\n",
       "    </tr>\n",
       "    <tr>\n",
       "      <th>3454</th>\n",
       "      <td>2022-11-28</td>\n",
       "      <td>Brazil</td>\n",
       "      <td>Switzerland</td>\n",
       "      <td>1</td>\n",
       "      <td>0</td>\n",
       "      <td>FIFA World Cup</td>\n",
       "      <td>Doha</td>\n",
       "      <td>Qatar</td>\n",
       "      <td>True</td>\n",
       "      <td>1841.30</td>\n",
       "      <td>1837.56</td>\n",
       "      <td>1.0</td>\n",
       "      <td>0.0</td>\n",
       "      <td>1635.92</td>\n",
       "      <td>1621.43</td>\n",
       "      <td>15.0</td>\n",
       "      <td>-1.0</td>\n",
       "    </tr>\n",
       "    <tr>\n",
       "      <th>3470</th>\n",
       "      <td>2022-12-02</td>\n",
       "      <td>Cameroon</td>\n",
       "      <td>Brazil</td>\n",
       "      <td>1</td>\n",
       "      <td>0</td>\n",
       "      <td>FIFA World Cup</td>\n",
       "      <td>Lusail</td>\n",
       "      <td>Qatar</td>\n",
       "      <td>True</td>\n",
       "      <td>1471.44</td>\n",
       "      <td>1484.95</td>\n",
       "      <td>43.0</td>\n",
       "      <td>5.0</td>\n",
       "      <td>1841.30</td>\n",
       "      <td>1837.56</td>\n",
       "      <td>1.0</td>\n",
       "      <td>0.0</td>\n",
       "    </tr>\n",
       "    <tr>\n",
       "      <th>3478</th>\n",
       "      <td>2022-12-05</td>\n",
       "      <td>Brazil</td>\n",
       "      <td>South Korea</td>\n",
       "      <td>4</td>\n",
       "      <td>1</td>\n",
       "      <td>FIFA World Cup</td>\n",
       "      <td>Doha</td>\n",
       "      <td>Qatar</td>\n",
       "      <td>True</td>\n",
       "      <td>1841.30</td>\n",
       "      <td>1837.56</td>\n",
       "      <td>1.0</td>\n",
       "      <td>0.0</td>\n",
       "      <td>1530.30</td>\n",
       "      <td>1526.02</td>\n",
       "      <td>28.0</td>\n",
       "      <td>0.0</td>\n",
       "    </tr>\n",
       "    <tr>\n",
       "      <th>3481</th>\n",
       "      <td>2022-12-09</td>\n",
       "      <td>Croatia</td>\n",
       "      <td>Brazil</td>\n",
       "      <td>1</td>\n",
       "      <td>1</td>\n",
       "      <td>FIFA World Cup</td>\n",
       "      <td>Al Rayyan</td>\n",
       "      <td>Qatar</td>\n",
       "      <td>True</td>\n",
       "      <td>1645.64</td>\n",
       "      <td>1632.15</td>\n",
       "      <td>12.0</td>\n",
       "      <td>-3.0</td>\n",
       "      <td>1841.30</td>\n",
       "      <td>1837.56</td>\n",
       "      <td>1.0</td>\n",
       "      <td>0.0</td>\n",
       "    </tr>\n",
       "  </tbody>\n",
       "</table>\n",
       "</div>"
      ],
      "text/plain": [
       "           date    home_team    away_team  home_score  away_score  \\\n",
       "2896 2022-03-29      Bolivia       Brazil           0           4   \n",
       "2988 2022-06-02  South Korea       Brazil           1           5   \n",
       "3056 2022-06-06        Japan       Brazil           0           1   \n",
       "3234 2022-09-23       Brazil        Ghana           3           0   \n",
       "3302 2022-09-27       Brazil      Tunisia           5           1   \n",
       "3438 2022-11-24       Brazil       Serbia           2           0   \n",
       "3454 2022-11-28       Brazil  Switzerland           1           0   \n",
       "3470 2022-12-02     Cameroon       Brazil           1           0   \n",
       "3478 2022-12-05       Brazil  South Korea           4           1   \n",
       "3481 2022-12-09      Croatia       Brazil           1           1   \n",
       "\n",
       "                        tournament       city      country  neutral  \\\n",
       "2896  FIFA World Cup qualification     La Paz      Bolivia    False   \n",
       "2988                      Friendly      Seoul  South Korea    False   \n",
       "3056                      Friendly      Tokyo        Japan    False   \n",
       "3234                      Friendly   Le Havre       France     True   \n",
       "3302                      Friendly      Paris       France     True   \n",
       "3438                FIFA World Cup     Lusail        Qatar     True   \n",
       "3454                FIFA World Cup       Doha        Qatar     True   \n",
       "3470                FIFA World Cup     Lusail        Qatar     True   \n",
       "3478                FIFA World Cup       Doha        Qatar     True   \n",
       "3481                FIFA World Cup  Al Rayyan        Qatar     True   \n",
       "\n",
       "      total_points_home  previous_points_home  rank_home  rank_change_home  \\\n",
       "2896            1308.12               1324.21       76.0              -1.0   \n",
       "2988            1519.54               1522.85       29.0               0.0   \n",
       "3056            1553.44               1549.82       23.0               0.0   \n",
       "3234            1837.56               1837.56        1.0               0.0   \n",
       "3302            1837.56               1837.56        1.0               0.0   \n",
       "3438            1841.30               1837.56        1.0               0.0   \n",
       "3454            1841.30               1837.56        1.0               0.0   \n",
       "3470            1471.44               1484.95       43.0               5.0   \n",
       "3478            1841.30               1837.56        1.0               0.0   \n",
       "3481            1645.64               1632.15       12.0              -3.0   \n",
       "\n",
       "      total_points_away  previous_points_away  rank_away  rank_change_away  \n",
       "2896            1823.42               1826.35        2.0               0.0  \n",
       "2988            1832.69               1823.42        1.0              -1.0  \n",
       "3056            1832.69               1823.42        1.0              -1.0  \n",
       "3234            1393.47               1389.68       60.0               0.0  \n",
       "3302            1507.86               1507.86       30.0               0.0  \n",
       "3438            1563.62               1549.53       21.0              -4.0  \n",
       "3454            1635.92               1621.43       15.0              -1.0  \n",
       "3470            1841.30               1837.56        1.0               0.0  \n",
       "3478            1530.30               1526.02       28.0               0.0  \n",
       "3481            1841.30               1837.56        1.0               0.0  "
      ]
     },
     "execution_count": 475,
     "metadata": {},
     "output_type": "execute_result"
    }
   ],
   "source": [
    "df_wc_ranked[(df_wc_ranked.home_team == \"Brazil\") | (df_wc_ranked.away_team == \"Brazil\")].tail(10)"
   ]
  },
  {
   "cell_type": "markdown",
   "id": "4e6cf39b",
   "metadata": {},
   "source": [
    "Now, we have the data ready to create features based on the games' results and FIFA rankings."
   ]
  },
  {
   "cell_type": "markdown",
   "id": "f20dab09",
   "metadata": {},
   "source": [
    "## Create Features:\n",
    "\n",
    "The idea here is to create possible features that have impact on predicting football games. By intuition, we say that features that impact could be:\n",
    "\n",
    " - Past game points made \n",
    " - Past goals scored and suffered\n",
    " - The importance of game (friendly or not)\n",
    " - Rank of the teams\n",
    " - Rank increment of the teams\n",
    " - Goals made and suffered by ranking faced\n",
    " \n",
    " So, the first thing to do is create the feature that says which team won and how much points they made at game."
   ]
  },
  {
   "cell_type": "code",
   "execution_count": 476,
   "id": "7f0060cd",
   "metadata": {},
   "outputs": [],
   "source": [
    "df = df_wc_ranked"
   ]
  },
  {
   "cell_type": "code",
   "execution_count": 477,
   "id": "60a39e85",
   "metadata": {},
   "outputs": [],
   "source": [
    "def result_finder(home, away):\n",
    "    if home > away:\n",
    "        return pd.Series([0, 3, 0])\n",
    "    if home < away:\n",
    "        return pd.Series([1, 0, 3])\n",
    "    else:\n",
    "        return pd.Series([2, 1, 1])\n",
    "\n",
    "results = df.apply(lambda x: result_finder(x[\"home_score\"], x[\"away_score\"]), axis=1)"
   ]
  },
  {
   "cell_type": "code",
   "execution_count": 478,
   "id": "deeb6988",
   "metadata": {},
   "outputs": [],
   "source": [
    "df[[\"result\", \"home_team_points\", \"away_team_points\"]] = results"
   ]
  },
  {
   "cell_type": "markdown",
   "id": "6a642f2c",
   "metadata": {},
   "source": [
    "The game points are 3 for win, 1 for draw and 0 for lose and are different than the FIFA rank points that are already in the database. Also, it's supposed that FIFA Rank points and FIFA Ranking of the same team are negative correlated, and we should use only one of them to create new features. This supposition is checked below:"
   ]
  },
  {
   "cell_type": "code",
   "execution_count": 479,
   "id": "e7b0eee9",
   "metadata": {},
   "outputs": [
    {
     "data": {
      "image/png": "[encoded data removed]",
      "text/plain": [
       "<Figure size 1080x720 with 2 Axes>"
      ]
     },
     "metadata": {
      "needs_background": "light"
     },
     "output_type": "display_data"
    }
   ],
   "source": [
    "import seaborn as sns\n",
    "import matplotlib.pyplot as plt\n",
    "\n",
    "plt.figure(figsize=(15, 10))\n",
    "sns.heatmap(df[[\"total_points_home\", \"rank_home\", \"total_points_away\", \"rank_away\"]].corr())\n",
    "plt.show()"
   ]
  },
  {
   "cell_type": "markdown",
   "id": "4df3e614",
   "metadata": {},
   "source": [
    "Now, we create columns that will help in the creation of the features: ranking difference, points won at the game vs. team faced rank, and goals difference in the game. All features that are not differences should be created for the two teams (away and home)."
   ]
  },
  {
   "cell_type": "code",
   "execution_count": 480,
   "id": "96abd46d",
   "metadata": {},
   "outputs": [],
   "source": [
    "df[\"rank_dif\"] = df[\"rank_home\"] - df[\"rank_away\"]\n",
    "df[\"sg\"] = df[\"home_score\"] - df[\"away_score\"]\n",
    "df[\"points_home_by_rank\"] = df[\"home_team_points\"]/df[\"rank_away\"]\n",
    "df[\"points_away_by_rank\"] = df[\"away_team_points\"]/df[\"rank_home\"]"
   ]
  },
  {
   "cell_type": "markdown",
   "id": "a444e1d6",
   "metadata": {},
   "source": [
    "In order to create the features, I'll separate the dataset in home team's and away team's dataset, unify them and calculate the past game values. After that, I'll separate again and merge them, retrieving the original dataset. This process optimizes the creation of the features."
   ]
  },
  {
   "cell_type": "code",
   "execution_count": 481,
   "id": "ac64bc24",
   "metadata": {},
   "outputs": [],
   "source": [
    "home_team = df[[\"date\", \"home_team\", \"home_score\", \"away_score\", \"rank_home\", \"rank_away\",\"rank_change_home\", \"total_points_home\", \"result\", \"rank_dif\", \"points_home_by_rank\", \"home_team_points\"]]\n",
    "\n",
    "away_team = df[[\"date\", \"away_team\", \"away_score\", \"home_score\", \"rank_away\", \"rank_home\",\"rank_change_away\", \"total_points_away\", \"result\", \"rank_dif\", \"points_away_by_rank\", \"away_team_points\"]]"
   ]
  },
  {
   "cell_type": "code",
   "execution_count": 482,
   "id": "3a950523",
   "metadata": {},
   "outputs": [],
   "source": [
    "home_team.columns = [h.replace(\"home_\", \"\").replace(\"_home\", \"\").replace(\"away_\", \"suf_\").replace(\"_away\", \"_suf\") for h in home_team.columns]\n",
    "\n",
    "away_team.columns = [a.replace(\"away_\", \"\").replace(\"_away\", \"\").replace(\"home_\", \"suf_\").replace(\"_home\", \"_suf\") for a in away_team.columns]"
   ]
  },
  {
   "cell_type": "code",
   "execution_count": 483,
   "id": "e454c5b1",
   "metadata": {},
   "outputs": [
    {
     "name": "stderr",
     "output_type": "stream",
     "text": [
      "/var/folders/3k/8tw7rl2j2wsc7w7hvt4mq0sr0000gp/T/ipykernel_18629/275322566.py:1: FutureWarning: The frame.append method is deprecated and will be removed from pandas in a future version. Use pandas.concat instead.\n",
      "  team_stats = home_team.append(away_team)#.sort_values(\"date\")\n"
     ]
    }
   ],
   "source": [
    "team_stats = home_team.append(away_team)#.sort_values(\"date\")"
   ]
  },
  {
   "cell_type": "code",
   "execution_count": 484,
   "id": "b839cfd6",
   "metadata": {},
   "outputs": [],
   "source": [
    "#this column will be used to calculate features for simulation\n",
    "team_stats_raw = team_stats.copy()"
   ]
  },
  {
   "cell_type": "markdown",
   "id": "ca1f0fba",
   "metadata": {},
   "source": [
    "Now, we have a database ready to create predictive features. They will be:\n",
    "\n",
    " - Mean goals of the team in World Cup Cycle.\n",
    " - Mean goals of the team in last 5 games.\n",
    " - Mean goals suffered of the team in World Cup Cycle.\n",
    " - Mean goals suffered of the team in last 5 games.\n",
    " - Mean FIFA Rank that team faced in World Cup Cycle.\n",
    " - Mean FIFA Rank that team faced in last 5 games.\n",
    " - FIFA Points won at the cycle.\n",
    " - FIFA Points won in last 5 games.\n",
    " - Mean game points at the Cycle.\n",
    " - Mean game points at last 5 games.\n",
    " - Mean game points by rank faced at the Cycle.\n",
    " - Mean game points by rank faced at last 5 games."
   ]
  },
  {
   "cell_type": "code",
   "execution_count": 485,
   "id": "9323efee",
   "metadata": {},
   "outputs": [],
   "source": [
    "stats_val = []\n",
    "\n",
    "for index, row in team_stats.iterrows():\n",
    "    team = row[\"team\"]\n",
    "    date = row[\"date\"]\n",
    "    past_games = team_stats.loc[(team_stats[\"team\"] == team) & (team_stats[\"date\"] < date)].sort_values(by=['date'], ascending=False)\n",
    "    last5 = past_games.head(5)\n",
    "    \n",
    "    goals = past_games[\"score\"].mean()\n",
    "    goals_l5 = last5[\"score\"].mean()\n",
    "    \n",
    "    goals_suf = past_games[\"suf_score\"].mean()\n",
    "    goals_suf_l5 = last5[\"suf_score\"].mean()\n",
    "    \n",
    "    rank = past_games[\"rank_suf\"].mean()\n",
    "    rank_l5 = last5[\"rank_suf\"].mean()\n",
    "    \n",
    "    if len(last5) > 0:\n",
    "        points = past_games[\"total_points\"].values[0] - past_games[\"total_points\"].values[-1]\n",
    "        points_l5 = last5[\"total_points\"].values[0] - last5[\"total_points\"].values[-1] \n",
    "    else:\n",
    "        points = 0\n",
    "        points_l5 = 0\n",
    "        \n",
    "    gp = past_games[\"team_points\"].mean()\n",
    "    gp_l5 = last5[\"team_points\"].mean()\n",
    "    \n",
    "    gp_rank = past_games[\"points_by_rank\"].mean()\n",
    "    gp_rank_l5 = last5[\"points_by_rank\"].mean()\n",
    "    \n",
    "    stats_val.append([goals, goals_l5, goals_suf, goals_suf_l5, rank, rank_l5, points, points_l5, gp, gp_l5, gp_rank, gp_rank_l5])"
   ]
  },
  {
   "cell_type": "code",
   "execution_count": 486,
   "id": "3b8c4c4f",
   "metadata": {},
   "outputs": [],
   "source": [
    "stats_cols = [\"goals_mean\", \"goals_mean_l5\", \"goals_suf_mean\", \"goals_suf_mean_l5\", \"rank_mean\", \"rank_mean_l5\", \"points_mean\", \"points_mean_l5\", \"game_points_mean\", \"game_points_mean_l5\", \"game_points_rank_mean\", \"game_points_rank_mean_l5\"]\n",
    "\n",
    "stats_df = pd.DataFrame(stats_val, columns=stats_cols)\n",
    "\n",
    "full_df = pd.concat([team_stats.reset_index(drop=True), stats_df], axis=1, ignore_index=False)"
   ]
  },
  {
   "cell_type": "code",
   "execution_count": 487,
   "id": "0e16e45d",
   "metadata": {},
   "outputs": [],
   "source": [
    "home_team_stats = full_df.iloc[:int(full_df.shape[0]/2),:]\n",
    "away_team_stats = full_df.iloc[int(full_df.shape[0]/2):,:]"
   ]
  },
  {
   "cell_type": "markdown",
   "id": "0f04d1f3",
   "metadata": {},
   "source": [
    "The new columns:"
   ]
  },
  {
   "cell_type": "code",
   "execution_count": 488,
   "id": "aae2b383",
   "metadata": {},
   "outputs": [
    {
     "data": {
      "text/plain": [
       "Index(['goals_mean', 'goals_mean_l5', 'goals_suf_mean', 'goals_suf_mean_l5',\n",
       "       'rank_mean', 'rank_mean_l5', 'points_mean', 'points_mean_l5',\n",
       "       'game_points_mean', 'game_points_mean_l5', 'game_points_rank_mean',\n",
       "       'game_points_rank_mean_l5'],\n",
       "      dtype='object')"
      ]
     },
     "execution_count": 488,
     "metadata": {},
     "output_type": "execute_result"
    }
   ],
   "source": [
    "home_team_stats.columns[-12:]"
   ]
  },
  {
   "cell_type": "code",
   "execution_count": 489,
   "id": "05244e17",
   "metadata": {},
   "outputs": [],
   "source": [
    "home_team_stats = home_team_stats[home_team_stats.columns[-12:]]\n",
    "away_team_stats = away_team_stats[away_team_stats.columns[-12:]]"
   ]
  },
  {
   "cell_type": "code",
   "execution_count": 490,
   "id": "934030ee",
   "metadata": {},
   "outputs": [],
   "source": [
    "home_team_stats.columns = ['home_'+str(col) for col in home_team_stats.columns]\n",
    "away_team_stats.columns = ['away_'+str(col) for col in away_team_stats.columns]"
   ]
  },
  {
   "cell_type": "markdown",
   "id": "dac7d9b2",
   "metadata": {},
   "source": [
    "In order to unify the database, is needed to add home and away suffix for each column. After that, the data is ready to be merged."
   ]
  },
  {
   "cell_type": "code",
   "execution_count": 491,
   "id": "43bef623",
   "metadata": {},
   "outputs": [],
   "source": [
    "match_stats = pd.concat([home_team_stats, away_team_stats.reset_index(drop=True)], axis=1, ignore_index=False)"
   ]
  },
  {
   "cell_type": "code",
   "execution_count": 492,
   "id": "e89e1684",
   "metadata": {},
   "outputs": [],
   "source": [
    "full_df = pd.concat([df, match_stats.reset_index(drop=True)], axis=1, ignore_index=False)"
   ]
  },
  {
   "cell_type": "code",
   "execution_count": 493,
   "id": "76e19663",
   "metadata": {},
   "outputs": [
    {
     "data": {
      "text/plain": [
       "Index(['date', 'home_team', 'away_team', 'home_score', 'away_score',\n",
       "       'tournament', 'city', 'country', 'neutral', 'total_points_home',\n",
       "       'previous_points_home', 'rank_home', 'rank_change_home',\n",
       "       'total_points_away', 'previous_points_away', 'rank_away',\n",
       "       'rank_change_away', 'result', 'home_team_points', 'away_team_points',\n",
       "       'rank_dif', 'sg', 'points_home_by_rank', 'points_away_by_rank',\n",
       "       'home_goals_mean', 'home_goals_mean_l5', 'home_goals_suf_mean',\n",
       "       'home_goals_suf_mean_l5', 'home_rank_mean', 'home_rank_mean_l5',\n",
       "       'home_points_mean', 'home_points_mean_l5', 'home_game_points_mean',\n",
       "       'home_game_points_mean_l5', 'home_game_points_rank_mean',\n",
       "       'home_game_points_rank_mean_l5', 'away_goals_mean',\n",
       "       'away_goals_mean_l5', 'away_goals_suf_mean', 'away_goals_suf_mean_l5',\n",
       "       'away_rank_mean', 'away_rank_mean_l5', 'away_points_mean',\n",
       "       'away_points_mean_l5', 'away_game_points_mean',\n",
       "       'away_game_points_mean_l5', 'away_game_points_rank_mean',\n",
       "       'away_game_points_rank_mean_l5'],\n",
       "      dtype='object')"
      ]
     },
     "execution_count": 493,
     "metadata": {},
     "output_type": "execute_result"
    }
   ],
   "source": [
    "full_df.columns"
   ]
  },
  {
   "cell_type": "markdown",
   "id": "ef518069",
   "metadata": {},
   "source": [
    "Now, to quantify game importance, a separate column to distinguish friendly matches is created."
   ]
  },
  {
   "cell_type": "code",
   "execution_count": 494,
   "id": "e6d3a51e",
   "metadata": {},
   "outputs": [],
   "source": [
    "def find_friendly(x):\n",
    "    if x == \"Friendly\":\n",
    "        return 1\n",
    "    else: return 0\n",
    "\n",
    "full_df[\"is_friendly\"] = full_df[\"tournament\"].apply(lambda x: find_friendly(x)) "
   ]
  },
  {
   "cell_type": "code",
   "execution_count": 495,
   "id": "e99cfbbb",
   "metadata": {},
   "outputs": [],
   "source": [
    "full_df = pd.get_dummies(full_df, columns=[\"is_friendly\"])"
   ]
  },
  {
   "cell_type": "code",
   "execution_count": 496,
   "id": "5bcea55a",
   "metadata": {},
   "outputs": [
    {
     "data": {
      "text/plain": [
       "Index(['date', 'home_team', 'away_team', 'home_score', 'away_score',\n",
       "       'tournament', 'city', 'country', 'neutral', 'total_points_home',\n",
       "       'previous_points_home', 'rank_home', 'rank_change_home',\n",
       "       'total_points_away', 'previous_points_away', 'rank_away',\n",
       "       'rank_change_away', 'result', 'home_team_points', 'away_team_points',\n",
       "       'rank_dif', 'sg', 'points_home_by_rank', 'points_away_by_rank',\n",
       "       'home_goals_mean', 'home_goals_mean_l5', 'home_goals_suf_mean',\n",
       "       'home_goals_suf_mean_l5', 'home_rank_mean', 'home_rank_mean_l5',\n",
       "       'home_points_mean', 'home_points_mean_l5', 'home_game_points_mean',\n",
       "       'home_game_points_mean_l5', 'home_game_points_rank_mean',\n",
       "       'home_game_points_rank_mean_l5', 'away_goals_mean',\n",
       "       'away_goals_mean_l5', 'away_goals_suf_mean', 'away_goals_suf_mean_l5',\n",
       "       'away_rank_mean', 'away_rank_mean_l5', 'away_points_mean',\n",
       "       'away_points_mean_l5', 'away_game_points_mean',\n",
       "       'away_game_points_mean_l5', 'away_game_points_rank_mean',\n",
       "       'away_game_points_rank_mean_l5', 'is_friendly_0', 'is_friendly_1'],\n",
       "      dtype='object')"
      ]
     },
     "execution_count": 496,
     "metadata": {},
     "output_type": "execute_result"
    }
   ],
   "source": [
    "full_df.columns"
   ]
  },
  {
   "cell_type": "markdown",
   "id": "f09216d7",
   "metadata": {},
   "source": [
    "And, after that, we select only columns that will help in Features' analysis."
   ]
  },
  {
   "cell_type": "code",
   "execution_count": 497,
   "id": "0b692e8b",
   "metadata": {},
   "outputs": [
    {
     "data": {
      "text/html": [
       "<div>\n",
       "<style scoped>\n",
       "    .dataframe tbody tr th:only-of-type {\n",
       "        vertical-align: middle;\n",
       "    }\n",
       "\n",
       "    .dataframe tbody tr th {\n",
       "        vertical-align: top;\n",
       "    }\n",
       "\n",
       "    .dataframe thead th {\n",
       "        text-align: right;\n",
       "    }\n",
       "</style>\n",
       "<table border=\"1\" class=\"dataframe\">\n",
       "  <thead>\n",
       "    <tr style=\"text-align: right;\">\n",
       "      <th></th>\n",
       "      <th>date</th>\n",
       "      <th>home_team</th>\n",
       "      <th>away_team</th>\n",
       "      <th>rank_home</th>\n",
       "      <th>rank_away</th>\n",
       "      <th>home_score</th>\n",
       "      <th>away_score</th>\n",
       "      <th>result</th>\n",
       "      <th>rank_dif</th>\n",
       "      <th>rank_change_home</th>\n",
       "      <th>...</th>\n",
       "      <th>home_game_points_mean</th>\n",
       "      <th>home_game_points_mean_l5</th>\n",
       "      <th>home_game_points_rank_mean</th>\n",
       "      <th>home_game_points_rank_mean_l5</th>\n",
       "      <th>away_game_points_mean</th>\n",
       "      <th>away_game_points_mean_l5</th>\n",
       "      <th>away_game_points_rank_mean</th>\n",
       "      <th>away_game_points_rank_mean_l5</th>\n",
       "      <th>is_friendly_0</th>\n",
       "      <th>is_friendly_1</th>\n",
       "    </tr>\n",
       "  </thead>\n",
       "  <tbody>\n",
       "    <tr>\n",
       "      <th>3489</th>\n",
       "      <td>2022-12-14</td>\n",
       "      <td>Malaysia</td>\n",
       "      <td>Maldives</td>\n",
       "      <td>146.0</td>\n",
       "      <td>154.0</td>\n",
       "      <td>3</td>\n",
       "      <td>0</td>\n",
       "      <td>0</td>\n",
       "      <td>-8.0</td>\n",
       "      <td>-2.0</td>\n",
       "      <td>...</td>\n",
       "      <td>1.789474</td>\n",
       "      <td>1.6</td>\n",
       "      <td>0.011980</td>\n",
       "      <td>0.010218</td>\n",
       "      <td>1.307692</td>\n",
       "      <td>1.8</td>\n",
       "      <td>0.007591</td>\n",
       "      <td>0.009363</td>\n",
       "      <td>0</td>\n",
       "      <td>1</td>\n",
       "    </tr>\n",
       "    <tr>\n",
       "      <th>3490</th>\n",
       "      <td>2022-12-14</td>\n",
       "      <td>Vietnam</td>\n",
       "      <td>Philippines</td>\n",
       "      <td>96.0</td>\n",
       "      <td>133.0</td>\n",
       "      <td>1</td>\n",
       "      <td>0</td>\n",
       "      <td>0</td>\n",
       "      <td>-37.0</td>\n",
       "      <td>-1.0</td>\n",
       "      <td>...</td>\n",
       "      <td>1.611111</td>\n",
       "      <td>2.0</td>\n",
       "      <td>0.013659</td>\n",
       "      <td>0.022238</td>\n",
       "      <td>1.000000</td>\n",
       "      <td>0.8</td>\n",
       "      <td>0.006534</td>\n",
       "      <td>0.004550</td>\n",
       "      <td>0</td>\n",
       "      <td>1</td>\n",
       "    </tr>\n",
       "    <tr>\n",
       "      <th>3491</th>\n",
       "      <td>2022-12-17</td>\n",
       "      <td>Croatia</td>\n",
       "      <td>Morocco</td>\n",
       "      <td>12.0</td>\n",
       "      <td>22.0</td>\n",
       "      <td>2</td>\n",
       "      <td>1</td>\n",
       "      <td>0</td>\n",
       "      <td>-10.0</td>\n",
       "      <td>-3.0</td>\n",
       "      <td>...</td>\n",
       "      <td>1.636364</td>\n",
       "      <td>1.2</td>\n",
       "      <td>0.106002</td>\n",
       "      <td>0.322967</td>\n",
       "      <td>2.104167</td>\n",
       "      <td>2.0</td>\n",
       "      <td>0.074431</td>\n",
       "      <td>0.409872</td>\n",
       "      <td>1</td>\n",
       "      <td>0</td>\n",
       "    </tr>\n",
       "    <tr>\n",
       "      <th>3492</th>\n",
       "      <td>2022-12-17</td>\n",
       "      <td>Singapore</td>\n",
       "      <td>Maldives</td>\n",
       "      <td>160.0</td>\n",
       "      <td>154.0</td>\n",
       "      <td>3</td>\n",
       "      <td>1</td>\n",
       "      <td>0</td>\n",
       "      <td>6.0</td>\n",
       "      <td>1.0</td>\n",
       "      <td>...</td>\n",
       "      <td>1.379310</td>\n",
       "      <td>1.0</td>\n",
       "      <td>0.009629</td>\n",
       "      <td>0.007240</td>\n",
       "      <td>1.259259</td>\n",
       "      <td>1.8</td>\n",
       "      <td>0.007310</td>\n",
       "      <td>0.009363</td>\n",
       "      <td>0</td>\n",
       "      <td>1</td>\n",
       "    </tr>\n",
       "    <tr>\n",
       "      <th>3493</th>\n",
       "      <td>2022-12-18</td>\n",
       "      <td>Argentina</td>\n",
       "      <td>France</td>\n",
       "      <td>3.0</td>\n",
       "      <td>4.0</td>\n",
       "      <td>3</td>\n",
       "      <td>3</td>\n",
       "      <td>2</td>\n",
       "      <td>-1.0</td>\n",
       "      <td>0.0</td>\n",
       "      <td>...</td>\n",
       "      <td>2.232143</td>\n",
       "      <td>2.6</td>\n",
       "      <td>0.136649</td>\n",
       "      <td>0.160020</td>\n",
       "      <td>2.166667</td>\n",
       "      <td>2.4</td>\n",
       "      <td>0.175278</td>\n",
       "      <td>0.230350</td>\n",
       "      <td>1</td>\n",
       "      <td>0</td>\n",
       "    </tr>\n",
       "  </tbody>\n",
       "</table>\n",
       "<p>5 rows × 37 columns</p>\n",
       "</div>"
      ],
      "text/plain": [
       "           date  home_team    away_team  rank_home  rank_away  home_score  \\\n",
       "3489 2022-12-14   Malaysia     Maldives      146.0      154.0           3   \n",
       "3490 2022-12-14    Vietnam  Philippines       96.0      133.0           1   \n",
       "3491 2022-12-17    Croatia      Morocco       12.0       22.0           2   \n",
       "3492 2022-12-17  Singapore     Maldives      160.0      154.0           3   \n",
       "3493 2022-12-18  Argentina       France        3.0        4.0           3   \n",
       "\n",
       "      away_score  result  rank_dif  rank_change_home  ...  \\\n",
       "3489           0       0      -8.0              -2.0  ...   \n",
       "3490           0       0     -37.0              -1.0  ...   \n",
       "3491           1       0     -10.0              -3.0  ...   \n",
       "3492           1       0       6.0               1.0  ...   \n",
       "3493           3       2      -1.0               0.0  ...   \n",
       "\n",
       "      home_game_points_mean  home_game_points_mean_l5  \\\n",
       "3489               1.789474                       1.6   \n",
       "3490               1.611111                       2.0   \n",
       "3491               1.636364                       1.2   \n",
       "3492               1.379310                       1.0   \n",
       "3493               2.232143                       2.6   \n",
       "\n",
       "      home_game_points_rank_mean  home_game_points_rank_mean_l5  \\\n",
       "3489                    0.011980                       0.010218   \n",
       "3490                    0.013659                       0.022238   \n",
       "3491                    0.106002                       0.322967   \n",
       "3492                    0.009629                       0.007240   \n",
       "3493                    0.136649                       0.160020   \n",
       "\n",
       "      away_game_points_mean  away_game_points_mean_l5  \\\n",
       "3489               1.307692                       1.8   \n",
       "3490               1.000000                       0.8   \n",
       "3491               2.104167                       2.0   \n",
       "3492               1.259259                       1.8   \n",
       "3493               2.166667                       2.4   \n",
       "\n",
       "      away_game_points_rank_mean  away_game_points_rank_mean_l5  \\\n",
       "3489                    0.007591                       0.009363   \n",
       "3490                    0.006534                       0.004550   \n",
       "3491                    0.074431                       0.409872   \n",
       "3492                    0.007310                       0.009363   \n",
       "3493                    0.175278                       0.230350   \n",
       "\n",
       "      is_friendly_0  is_friendly_1  \n",
       "3489              0              1  \n",
       "3490              0              1  \n",
       "3491              1              0  \n",
       "3492              0              1  \n",
       "3493              1              0  \n",
       "\n",
       "[5 rows x 37 columns]"
      ]
     },
     "execution_count": 497,
     "metadata": {},
     "output_type": "execute_result"
    }
   ],
   "source": [
    "base_df = full_df[[\"date\", \"home_team\", \"away_team\", \"rank_home\", \"rank_away\",\"home_score\", \"away_score\",\"result\", \"rank_dif\", \"rank_change_home\", \"rank_change_away\", 'home_goals_mean',\n",
    "       'home_goals_mean_l5', 'home_goals_suf_mean', 'home_goals_suf_mean_l5',\n",
    "       'home_rank_mean', 'home_rank_mean_l5', 'home_points_mean',\n",
    "       'home_points_mean_l5', 'away_goals_mean', 'away_goals_mean_l5',\n",
    "       'away_goals_suf_mean', 'away_goals_suf_mean_l5', 'away_rank_mean',\n",
    "       'away_rank_mean_l5', 'away_points_mean', 'away_points_mean_l5','home_game_points_mean', 'home_game_points_mean_l5',\n",
    "       'home_game_points_rank_mean', 'home_game_points_rank_mean_l5','away_game_points_mean',\n",
    "       'away_game_points_mean_l5', 'away_game_points_rank_mean',\n",
    "       'away_game_points_rank_mean_l5',\n",
    "       'is_friendly_0', 'is_friendly_1']]\n",
    "\n",
    "base_df.tail()"
   ]
  },
  {
   "cell_type": "code",
   "execution_count": 498,
   "id": "78797184",
   "metadata": {},
   "outputs": [
    {
     "data": {
      "text/plain": [
       "date                               0\n",
       "home_team                          0\n",
       "away_team                          0\n",
       "rank_home                          0\n",
       "rank_away                          0\n",
       "home_score                         0\n",
       "away_score                         0\n",
       "result                             0\n",
       "rank_dif                           0\n",
       "rank_change_home                   0\n",
       "rank_change_away                   0\n",
       "home_goals_mean                  101\n",
       "home_goals_mean_l5               101\n",
       "home_goals_suf_mean              101\n",
       "home_goals_suf_mean_l5           101\n",
       "home_rank_mean                   101\n",
       "home_rank_mean_l5                101\n",
       "home_points_mean                   0\n",
       "home_points_mean_l5                0\n",
       "away_goals_mean                  100\n",
       "away_goals_mean_l5               100\n",
       "away_goals_suf_mean              100\n",
       "away_goals_suf_mean_l5           100\n",
       "away_rank_mean                   100\n",
       "away_rank_mean_l5                100\n",
       "away_points_mean                   0\n",
       "away_points_mean_l5                0\n",
       "home_game_points_mean            101\n",
       "home_game_points_mean_l5         101\n",
       "home_game_points_rank_mean       101\n",
       "home_game_points_rank_mean_l5    101\n",
       "away_game_points_mean            100\n",
       "away_game_points_mean_l5         100\n",
       "away_game_points_rank_mean       100\n",
       "away_game_points_rank_mean_l5    100\n",
       "is_friendly_0                      0\n",
       "is_friendly_1                      0\n",
       "dtype: int64"
      ]
     },
     "execution_count": 498,
     "metadata": {},
     "output_type": "execute_result"
    }
   ],
   "source": [
    "base_df.isna().sum()"
   ]
  },
  {
   "cell_type": "markdown",
   "id": "a027b2e1",
   "metadata": {},
   "source": [
    "The games with NA are the ones whose mean could not be calculated (games from the beginning of the dataset). Those will be dropped."
   ]
  },
  {
   "cell_type": "code",
   "execution_count": 499,
   "id": "83c5322a",
   "metadata": {},
   "outputs": [],
   "source": [
    "base_df_no_fg = base_df.dropna()"
   ]
  },
  {
   "cell_type": "markdown",
   "id": "24be482a",
   "metadata": {},
   "source": [
    "## Data Analysis\n",
    "\n",
    "Now, we need to analyze all features that were created and check if they have predictive power. Also, if they don't have, we need to create some that have, like differences of home and away teams. To analyze the predictive power, I'll assign draw games as a lose of the home team and will create a binary problem."
   ]
  },
  {
   "cell_type": "code",
   "execution_count": 500,
   "id": "c066001c",
   "metadata": {},
   "outputs": [],
   "source": [
    "df = base_df_no_fg"
   ]
  },
  {
   "cell_type": "markdown",
   "id": "6b379f79",
   "metadata": {},
   "source": [
    "Analysis that will be made:\n",
    "\n",
    " - Boxplot to analyze if the features have different distributions according to the target \n",
    " - Scatter plots to analyze correlations"
   ]
  },
  {
   "cell_type": "code",
   "execution_count": 501,
   "id": "e9aabd4c",
   "metadata": {},
   "outputs": [
    {
     "name": "stderr",
     "output_type": "stream",
     "text": [
      "/var/folders/3k/8tw7rl2j2wsc7w7hvt4mq0sr0000gp/T/ipykernel_18629/1906038641.py:7: SettingWithCopyWarning: \n",
      "A value is trying to be set on a copy of a slice from a DataFrame.\n",
      "Try using .loc[row_indexer,col_indexer] = value instead\n",
      "\n",
      "See the caveats in the documentation: https://pandas.pydata.org/pandas-docs/stable/user_guide/indexing.html#returning-a-view-versus-a-copy\n",
      "  df[\"target\"] = df[\"result\"].apply(lambda x: no_draw(x))\n"
     ]
    }
   ],
   "source": [
    "def no_draw(x):\n",
    "    if x == 2:\n",
    "        return 1\n",
    "    else:\n",
    "        return x\n",
    "    \n",
    "df[\"target\"] = df[\"result\"].apply(lambda x: no_draw(x))"
   ]
  },
  {
   "cell_type": "code",
   "execution_count": 502,
   "id": "c8d85808",
   "metadata": {},
   "outputs": [],
   "source": [
    "data1 = df[list(df.columns[8:20].values) + [\"target\"]]\n",
    "data2 = df[df.columns[20:]]"
   ]
  },
  {
   "cell_type": "code",
   "execution_count": 503,
   "id": "cb183bc0",
   "metadata": {},
   "outputs": [],
   "source": [
    "scaled = (data1[:-1] - data1[:-1].mean()) / data1[:-1].std()\n",
    "scaled[\"target\"] = data1[\"target\"]\n",
    "box1 = pd.melt(scaled,id_vars=\"target\", var_name=\"features\", value_name=\"value\")\n",
    "\n",
    "scaled = (data2[:-1] - data2[:-1].mean()) / data2[:-1].std()\n",
    "scaled[\"target\"] = data2[\"target\"]\n",
    "box2 = pd.melt(scaled,id_vars=\"target\", var_name=\"features\", value_name=\"value\")"
   ]
  },
  {
   "cell_type": "code",
   "execution_count": 504,
   "id": "81d2892a",
   "metadata": {},
   "outputs": [
    {
     "data": {
      "image/png": "[encoded data removed]",
      "text/plain": [
       "<Figure size 1080x720 with 1 Axes>"
      ]
     },
     "metadata": {
      "needs_background": "light"
     },
     "output_type": "display_data"
    }
   ],
   "source": [
    "plt.figure(figsize=(15,10))\n",
    "sns.boxplot(x=\"features\", y=\"value\", hue=\"target\", data=box1)\n",
    "plt.xticks(rotation=90)\n",
    "plt.show()"
   ]
  },
  {
   "cell_type": "code",
   "execution_count": 505,
   "id": "fa1fcc0f",
   "metadata": {},
   "outputs": [
    {
     "data": {
      "image/png": "[encoded data removed]",
      "text/plain": [
       "<Figure size 1080x720 with 1 Axes>"
      ]
     },
     "metadata": {
      "needs_background": "light"
     },
     "output_type": "display_data"
    }
   ],
   "source": [
    "plt.figure(figsize=(15,10))\n",
    "sns.boxplot(x=\"features\", y=\"value\", hue=\"target\", data=box2)\n",
    "plt.xticks(rotation=90)\n",
    "plt.show()"
   ]
  },
  {
   "cell_type": "markdown",
   "id": "acf97038",
   "metadata": {},
   "source": [
    "With the plots, we find that rank difference is the only good separator of the data. But, we can create features that get the differences between home and away team and analyze if they are good separating the data."
   ]
  },
  {
   "cell_type": "code",
   "execution_count": 506,
   "id": "1cad102b",
   "metadata": {},
   "outputs": [],
   "source": [
    "dif = df.copy()\n",
    "dif.loc[:, \"goals_dif\"] = dif[\"home_goals_mean\"] - dif[\"away_goals_mean\"]\n",
    "dif.loc[:, \"goals_dif_l5\"] = dif[\"home_goals_mean_l5\"] - dif[\"away_goals_mean_l5\"]\n",
    "dif.loc[:, \"goals_suf_dif\"] = dif[\"home_goals_suf_mean\"] - dif[\"away_goals_suf_mean\"]\n",
    "dif.loc[:, \"goals_suf_dif_l5\"] = dif[\"home_goals_suf_mean_l5\"] - dif[\"away_goals_suf_mean_l5\"]\n",
    "dif.loc[:, \"goals_made_suf_dif\"] = dif[\"home_goals_mean\"] - dif[\"away_goals_suf_mean\"]\n",
    "dif.loc[:, \"goals_made_suf_dif_l5\"] = dif[\"home_goals_mean_l5\"] - dif[\"away_goals_suf_mean_l5\"]\n",
    "dif.loc[:, \"goals_suf_made_dif\"] = dif[\"home_goals_suf_mean\"] - dif[\"away_goals_mean\"]\n",
    "dif.loc[:, \"goals_suf_made_dif_l5\"] = dif[\"home_goals_suf_mean_l5\"] - dif[\"away_goals_mean_l5\"]"
   ]
  },
  {
   "cell_type": "code",
   "execution_count": 507,
   "id": "de4c6f61",
   "metadata": {},
   "outputs": [
    {
     "data": {
      "image/png": "[encoded data removed]",
      "text/plain": [
       "<Figure size 720x720 with 1 Axes>"
      ]
     },
     "metadata": {
      "needs_background": "light"
     },
     "output_type": "display_data"
    }
   ],
   "source": [
    "data_difs = dif.iloc[:, -8:]\n",
    "scaled = (data_difs - data_difs.mean()) / data_difs.std()\n",
    "scaled[\"target\"] = data2[\"target\"]\n",
    "box = pd.melt(scaled,id_vars=\"target\", var_name=\"features\", value_name=\"value\")\n",
    "\n",
    "plt.figure(figsize=(10,10))\n",
    "sns.boxplot(x=\"features\", y=\"value\", hue=\"target\", data=box)\n",
    "plt.xticks(rotation=90)\n",
    "plt.show()"
   ]
  },
  {
   "cell_type": "markdown",
   "id": "7d492bd1",
   "metadata": {},
   "source": [
    "With that plot, we see that goal differences are good separator, and goals suffered difference too. Differences between goals made and goals suffered of the teams are not very good separators.\n",
    "\n",
    "Now, we have 5 features:\n",
    "\n",
    " - rank_dif\n",
    " - goals_dif\n",
    " - goals_dif_l5\n",
    " - goals_suf_dif\n",
    " - goals_suf_dif_l5\n",
    "\n",
    "We can create other features, like differences of points made, differences of points made by rank faced and differences of rank faced."
   ]
  },
  {
   "cell_type": "code",
   "execution_count": 508,
   "id": "ce1f5416",
   "metadata": {},
   "outputs": [],
   "source": [
    "dif.loc[:, \"dif_points\"] = dif[\"home_game_points_mean\"] - dif[\"away_game_points_mean\"]\n",
    "dif.loc[:, \"dif_points_l5\"] = dif[\"home_game_points_mean_l5\"] - dif[\"away_game_points_mean_l5\"]\n",
    "dif.loc[:, \"dif_points_rank\"] = dif[\"home_game_points_rank_mean\"] - dif[\"away_game_points_rank_mean\"]\n",
    "dif.loc[:, \"dif_points_rank_l5\"] = dif[\"home_game_points_rank_mean_l5\"] - dif[\"away_game_points_rank_mean_l5\"]"
   ]
  },
  {
   "cell_type": "code",
   "execution_count": 509,
   "id": "8a468e98",
   "metadata": {},
   "outputs": [],
   "source": [
    "dif.loc[:, \"dif_rank_agst\"] = dif[\"home_rank_mean\"] - dif[\"away_rank_mean\"]\n",
    "dif.loc[:, \"dif_rank_agst_l5\"] = dif[\"home_rank_mean_l5\"] - dif[\"away_rank_mean_l5\"]"
   ]
  },
  {
   "cell_type": "markdown",
   "id": "06d9c985",
   "metadata": {},
   "source": [
    "Also, we can calculate goals made and suffered by rank, and check this difference."
   ]
  },
  {
   "cell_type": "code",
   "execution_count": 510,
   "id": "c60ef608",
   "metadata": {},
   "outputs": [],
   "source": [
    "dif.loc[:, \"goals_per_ranking_dif\"] = (dif[\"home_goals_mean\"] / dif[\"home_rank_mean\"]) - (dif[\"away_goals_mean\"] / dif[\"away_rank_mean\"])\n",
    "dif.loc[:, \"goals_per_ranking_suf_dif\"] = (dif[\"home_goals_suf_mean\"] / dif[\"home_rank_mean\"]) - (dif[\"away_goals_suf_mean\"] / dif[\"away_rank_mean\"])\n",
    "dif.loc[:, \"goals_per_ranking_dif_l5\"] = (dif[\"home_goals_mean_l5\"] / dif[\"home_rank_mean\"]) - (dif[\"away_goals_mean_l5\"] / dif[\"away_rank_mean\"])\n",
    "dif.loc[:, \"goals_per_ranking_suf_dif_l5\"] = (dif[\"home_goals_suf_mean_l5\"] / dif[\"home_rank_mean\"]) - (dif[\"away_goals_suf_mean_l5\"] / dif[\"away_rank_mean\"])"
   ]
  },
  {
   "cell_type": "code",
   "execution_count": 511,
   "id": "50842bd8",
   "metadata": {},
   "outputs": [
    {
     "data": {
      "image/png": "[encoded data removed]",
      "text/plain": [
       "<Figure size 1080x720 with 1 Axes>"
      ]
     },
     "metadata": {
      "needs_background": "light"
     },
     "output_type": "display_data"
    }
   ],
   "source": [
    "data_difs = dif.iloc[:, -10:]\n",
    "scaled = (data_difs - data_difs.mean()) / data_difs.std()\n",
    "scaled[\"target\"] = data2[\"target\"]\n",
    "box = pd.melt(scaled,id_vars=\"target\", var_name=\"features\", value_name=\"value\")\n",
    "\n",
    "plt.figure(figsize=(15,10))\n",
    "sns.boxplot(x=\"features\", y=\"value\", hue=\"target\", data=box)\n",
    "plt.xticks(rotation=90)\n",
    "plt.show()"
   ]
  },
  {
   "cell_type": "markdown",
   "id": "09529799",
   "metadata": {},
   "source": [
    "Difference of points (full and last 5 games), difference of points by ranking faced (full and last 5 games) and difference of rank faced (full and last 5 games) are good features. Also, some of the generated features have very similar distributions which will be analyzed using scatterplots."
   ]
  },
  {
   "cell_type": "code",
   "execution_count": 512,
   "id": "761bcc5a",
   "metadata": {},
   "outputs": [
    {
     "data": {
      "image/png": "[encoded data removed]",
      "text/plain": [
       "<Figure size 432x432 with 3 Axes>"
      ]
     },
     "metadata": {
      "needs_background": "light"
     },
     "output_type": "display_data"
    }
   ],
   "source": [
    "sns.jointplot(data = data_difs, x = 'goals_per_ranking_dif', y = 'goals_per_ranking_dif_l5', kind=\"reg\")\n",
    "plt.show()"
   ]
  },
  {
   "cell_type": "markdown",
   "id": "466136fc",
   "metadata": {},
   "source": [
    "Goals difference by ranking faced and its last 5 games version has very similar distributions. So, we will use only the full version (goals_per_ranking_dif)."
   ]
  },
  {
   "cell_type": "code",
   "execution_count": 513,
   "id": "44e53e95",
   "metadata": {},
   "outputs": [
    {
     "data": {
      "image/png": "[encoded data removed]",
      "text/plain": [
       "<Figure size 432x432 with 3 Axes>"
      ]
     },
     "metadata": {
      "needs_background": "light"
     },
     "output_type": "display_data"
    }
   ],
   "source": [
    "sns.jointplot(data = data_difs, x = 'dif_rank_agst', y = 'dif_rank_agst_l5', kind=\"reg\")\n",
    "plt.show()"
   ]
  },
  {
   "cell_type": "code",
   "execution_count": 514,
   "id": "fb9be15f",
   "metadata": {},
   "outputs": [
    {
     "data": {
      "image/png": "[encoded data removed]",
      "text/plain": [
       "<Figure size 432x432 with 3 Axes>"
      ]
     },
     "metadata": {
      "needs_background": "light"
     },
     "output_type": "display_data"
    }
   ],
   "source": [
    "sns.jointplot(data = data_difs, x = 'dif_points', y = 'dif_points_l5', kind=\"reg\")\n",
    "plt.show()"
   ]
  },
  {
   "cell_type": "code",
   "execution_count": 515,
   "id": "09d313a5",
   "metadata": {},
   "outputs": [
    {
     "data": {
      "image/png": "[encoded data removed]",
      "text/plain": [
       "<Figure size 432x432 with 3 Axes>"
      ]
     },
     "metadata": {
      "needs_background": "light"
     },
     "output_type": "display_data"
    }
   ],
   "source": [
    "sns.jointplot(data = data_difs, x = 'dif_points_rank', y = 'dif_points_rank_l5', kind=\"reg\")\n",
    "plt.show()"
   ]
  },
  {
   "cell_type": "markdown",
   "id": "16c6cc17",
   "metadata": {},
   "source": [
    "For the differences of rank faced, game points by rank faced and mean game points by rank faced, the two versions (full and 5 games) are not so similar. So, we will use both.\n",
    "\n",
    "Based on that, final features are:\n",
    "\n",
    " - rank_dif\n",
    " - goals_dif\n",
    " - goals_dif_l5\n",
    " - goals_suf_dif\n",
    " - goals_suf_dif_l5\n",
    " - dif_rank_agst\n",
    " - dif_rank_agst_l5\n",
    " - goals_per_ranking_dif\n",
    " - dif_points_rank\n",
    " - dif_points_rank_l5\n",
    " - is_friendly"
   ]
  },
  {
   "cell_type": "code",
   "execution_count": 539,
   "id": "0b3f0195",
   "metadata": {},
   "outputs": [],
   "source": [
    "def create_db(df):\n",
    "    columns = [\"home_team\", \"away_team\", \"target\", \"rank_dif\", \"home_goals_mean\", \"home_rank_mean\", \"away_goals_mean\", \"away_rank_mean\", \"home_rank_mean_l5\", \"away_rank_mean_l5\", \"home_goals_suf_mean\", \"away_goals_suf_mean\", \"home_goals_mean_l5\", \"away_goals_mean_l5\", \"home_goals_suf_mean_l5\", \"away_goals_suf_mean_l5\", \"home_game_points_rank_mean\", \"home_game_points_rank_mean_l5\", \"away_game_points_rank_mean\", \"away_game_points_rank_mean_l5\",\"is_friendly_0\", \"is_friendly_1\"]\n",
    "    \n",
    "    base = df.loc[:, columns]\n",
    "    base.loc[:, \"goals_dif\"] = base[\"home_goals_mean\"] - base[\"away_goals_mean\"]\n",
    "    base.loc[:, \"goals_dif_l5\"] = base[\"home_goals_mean_l5\"] - base[\"away_goals_mean_l5\"]\n",
    "    base.loc[:, \"goals_suf_dif\"] = base[\"home_goals_suf_mean\"] - base[\"away_goals_suf_mean\"]\n",
    "    base.loc[:, \"goals_suf_dif_l5\"] = base[\"home_goals_suf_mean_l5\"] - base[\"away_goals_suf_mean_l5\"]\n",
    "    base.loc[:, \"goals_per_ranking_dif\"] = (base[\"home_goals_mean\"] / base[\"home_rank_mean\"]) - (base[\"away_goals_mean\"] / base[\"away_rank_mean\"])\n",
    "    base.loc[:, \"dif_rank_agst\"] = base[\"home_rank_mean\"] - base[\"away_rank_mean\"]\n",
    "    base.loc[:, \"dif_rank_agst_l5\"] = base[\"home_rank_mean_l5\"] - base[\"away_rank_mean_l5\"]\n",
    "    base.loc[:, \"dif_points_rank\"] = base[\"home_game_points_rank_mean\"] - base[\"away_game_points_rank_mean\"]\n",
    "    base.loc[:, \"dif_points_rank_l5\"] = base[\"home_game_points_rank_mean_l5\"] - base[\"away_game_points_rank_mean_l5\"]\n",
    "    \n",
    "    model_df = base[[\"home_team\", \"away_team\", \"target\", \"rank_dif\", \"goals_dif\", \"goals_dif_l5\", \"goals_suf_dif\", \"goals_suf_dif_l5\", \"goals_per_ranking_dif\", \"dif_rank_agst\", \"dif_rank_agst_l5\", \"dif_points_rank\", \"dif_points_rank_l5\", \"is_friendly_0\", \"is_friendly_1\"]]\n",
    "    return model_df"
   ]
  },
  {
   "cell_type": "code",
   "execution_count": 540,
   "id": "717f8009",
   "metadata": {},
   "outputs": [
    {
     "data": {
      "text/html": [
       "<div>\n",
       "<style scoped>\n",
       "    .dataframe tbody tr th:only-of-type {\n",
       "        vertical-align: middle;\n",
       "    }\n",
       "\n",
       "    .dataframe tbody tr th {\n",
       "        vertical-align: top;\n",
       "    }\n",
       "\n",
       "    .dataframe thead th {\n",
       "        text-align: right;\n",
       "    }\n",
       "</style>\n",
       "<table border=\"1\" class=\"dataframe\">\n",
       "  <thead>\n",
       "    <tr style=\"text-align: right;\">\n",
       "      <th></th>\n",
       "      <th>home_team</th>\n",
       "      <th>away_team</th>\n",
       "      <th>target</th>\n",
       "      <th>rank_dif</th>\n",
       "      <th>goals_dif</th>\n",
       "      <th>goals_dif_l5</th>\n",
       "      <th>goals_suf_dif</th>\n",
       "      <th>goals_suf_dif_l5</th>\n",
       "      <th>goals_per_ranking_dif</th>\n",
       "      <th>dif_rank_agst</th>\n",
       "      <th>dif_rank_agst_l5</th>\n",
       "      <th>dif_points_rank</th>\n",
       "      <th>dif_points_rank_l5</th>\n",
       "      <th>is_friendly_0</th>\n",
       "      <th>is_friendly_1</th>\n",
       "    </tr>\n",
       "  </thead>\n",
       "  <tbody>\n",
       "    <tr>\n",
       "      <th>4</th>\n",
       "      <td>Barbados</td>\n",
       "      <td>Cuba</td>\n",
       "      <td>1</td>\n",
       "      <td>-21.0</td>\n",
       "      <td>2.000000</td>\n",
       "      <td>2.0</td>\n",
       "      <td>1.000000</td>\n",
       "      <td>1.0</td>\n",
       "      <td>0.037037</td>\n",
       "      <td>-92.000000</td>\n",
       "      <td>-92.0</td>\n",
       "      <td>0.018519</td>\n",
       "      <td>0.018519</td>\n",
       "      <td>0</td>\n",
       "      <td>1</td>\n",
       "    </tr>\n",
       "    <tr>\n",
       "      <th>6</th>\n",
       "      <td>Barbados</td>\n",
       "      <td>Cuba</td>\n",
       "      <td>1</td>\n",
       "      <td>-21.0</td>\n",
       "      <td>1.000000</td>\n",
       "      <td>1.0</td>\n",
       "      <td>0.500000</td>\n",
       "      <td>0.5</td>\n",
       "      <td>0.008511</td>\n",
       "      <td>-35.500000</td>\n",
       "      <td>-35.5</td>\n",
       "      <td>0.008897</td>\n",
       "      <td>0.008897</td>\n",
       "      <td>0</td>\n",
       "      <td>1</td>\n",
       "    </tr>\n",
       "    <tr>\n",
       "      <th>31</th>\n",
       "      <td>Mongolia</td>\n",
       "      <td>Guam</td>\n",
       "      <td>1</td>\n",
       "      <td>-4.0</td>\n",
       "      <td>4.000000</td>\n",
       "      <td>4.0</td>\n",
       "      <td>-1.000000</td>\n",
       "      <td>-1.0</td>\n",
       "      <td>0.021622</td>\n",
       "      <td>0.000000</td>\n",
       "      <td>0.0</td>\n",
       "      <td>0.016216</td>\n",
       "      <td>0.016216</td>\n",
       "      <td>1</td>\n",
       "      <td>0</td>\n",
       "    </tr>\n",
       "    <tr>\n",
       "      <th>32</th>\n",
       "      <td>Nepal</td>\n",
       "      <td>Bhutan</td>\n",
       "      <td>0</td>\n",
       "      <td>-22.0</td>\n",
       "      <td>1.000000</td>\n",
       "      <td>1.0</td>\n",
       "      <td>0.000000</td>\n",
       "      <td>0.0</td>\n",
       "      <td>0.004975</td>\n",
       "      <td>7.000000</td>\n",
       "      <td>7.0</td>\n",
       "      <td>0.000000</td>\n",
       "      <td>0.000000</td>\n",
       "      <td>1</td>\n",
       "      <td>0</td>\n",
       "    </tr>\n",
       "    <tr>\n",
       "      <th>33</th>\n",
       "      <td>Bangladesh</td>\n",
       "      <td>Pakistan</td>\n",
       "      <td>0</td>\n",
       "      <td>-7.0</td>\n",
       "      <td>-1.000000</td>\n",
       "      <td>-1.0</td>\n",
       "      <td>-0.500000</td>\n",
       "      <td>-0.5</td>\n",
       "      <td>-0.007200</td>\n",
       "      <td>30.500000</td>\n",
       "      <td>30.5</td>\n",
       "      <td>-0.010437</td>\n",
       "      <td>-0.010437</td>\n",
       "      <td>1</td>\n",
       "      <td>0</td>\n",
       "    </tr>\n",
       "    <tr>\n",
       "      <th>...</th>\n",
       "      <td>...</td>\n",
       "      <td>...</td>\n",
       "      <td>...</td>\n",
       "      <td>...</td>\n",
       "      <td>...</td>\n",
       "      <td>...</td>\n",
       "      <td>...</td>\n",
       "      <td>...</td>\n",
       "      <td>...</td>\n",
       "      <td>...</td>\n",
       "      <td>...</td>\n",
       "      <td>...</td>\n",
       "      <td>...</td>\n",
       "      <td>...</td>\n",
       "      <td>...</td>\n",
       "    </tr>\n",
       "    <tr>\n",
       "      <th>3489</th>\n",
       "      <td>Malaysia</td>\n",
       "      <td>Maldives</td>\n",
       "      <td>0</td>\n",
       "      <td>-8.0</td>\n",
       "      <td>0.767206</td>\n",
       "      <td>0.6</td>\n",
       "      <td>-0.534413</td>\n",
       "      <td>-0.8</td>\n",
       "      <td>0.006722</td>\n",
       "      <td>-16.485830</td>\n",
       "      <td>-19.6</td>\n",
       "      <td>0.004389</td>\n",
       "      <td>0.000855</td>\n",
       "      <td>0</td>\n",
       "      <td>1</td>\n",
       "    </tr>\n",
       "    <tr>\n",
       "      <th>3490</th>\n",
       "      <td>Vietnam</td>\n",
       "      <td>Philippines</td>\n",
       "      <td>0</td>\n",
       "      <td>-37.0</td>\n",
       "      <td>0.567778</td>\n",
       "      <td>1.8</td>\n",
       "      <td>-0.464444</td>\n",
       "      <td>-1.2</td>\n",
       "      <td>0.006699</td>\n",
       "      <td>-18.246667</td>\n",
       "      <td>-47.4</td>\n",
       "      <td>0.007125</td>\n",
       "      <td>0.017688</td>\n",
       "      <td>0</td>\n",
       "      <td>1</td>\n",
       "    </tr>\n",
       "    <tr>\n",
       "      <th>3491</th>\n",
       "      <td>Croatia</td>\n",
       "      <td>Morocco</td>\n",
       "      <td>0</td>\n",
       "      <td>-10.0</td>\n",
       "      <td>-0.025000</td>\n",
       "      <td>0.2</td>\n",
       "      <td>0.710227</td>\n",
       "      <td>0.6</td>\n",
       "      <td>0.017754</td>\n",
       "      <td>-32.061364</td>\n",
       "      <td>1.6</td>\n",
       "      <td>0.031571</td>\n",
       "      <td>-0.086905</td>\n",
       "      <td>1</td>\n",
       "      <td>0</td>\n",
       "    </tr>\n",
       "    <tr>\n",
       "      <th>3492</th>\n",
       "      <td>Singapore</td>\n",
       "      <td>Maldives</td>\n",
       "      <td>0</td>\n",
       "      <td>6.0</td>\n",
       "      <td>0.233716</td>\n",
       "      <td>0.0</td>\n",
       "      <td>-0.120051</td>\n",
       "      <td>0.0</td>\n",
       "      <td>0.003307</td>\n",
       "      <td>-24.234994</td>\n",
       "      <td>-38.8</td>\n",
       "      <td>0.002320</td>\n",
       "      <td>-0.002123</td>\n",
       "      <td>0</td>\n",
       "      <td>1</td>\n",
       "    </tr>\n",
       "    <tr>\n",
       "      <th>3493</th>\n",
       "      <td>Argentina</td>\n",
       "      <td>France</td>\n",
       "      <td>1</td>\n",
       "      <td>-1.0</td>\n",
       "      <td>-0.109788</td>\n",
       "      <td>0.4</td>\n",
       "      <td>-0.243386</td>\n",
       "      <td>-0.2</td>\n",
       "      <td>0.003482</td>\n",
       "      <td>-4.658069</td>\n",
       "      <td>0.8</td>\n",
       "      <td>-0.038629</td>\n",
       "      <td>-0.070329</td>\n",
       "      <td>1</td>\n",
       "      <td>0</td>\n",
       "    </tr>\n",
       "  </tbody>\n",
       "</table>\n",
       "<p>3359 rows × 15 columns</p>\n",
       "</div>"
      ],
      "text/plain": [
       "       home_team    away_team  target  rank_dif  goals_dif  goals_dif_l5  \\\n",
       "4       Barbados         Cuba       1     -21.0   2.000000           2.0   \n",
       "6       Barbados         Cuba       1     -21.0   1.000000           1.0   \n",
       "31      Mongolia         Guam       1      -4.0   4.000000           4.0   \n",
       "32         Nepal       Bhutan       0     -22.0   1.000000           1.0   \n",
       "33    Bangladesh     Pakistan       0      -7.0  -1.000000          -1.0   \n",
       "...          ...          ...     ...       ...        ...           ...   \n",
       "3489    Malaysia     Maldives       0      -8.0   0.767206           0.6   \n",
       "3490     Vietnam  Philippines       0     -37.0   0.567778           1.8   \n",
       "3491     Croatia      Morocco       0     -10.0  -0.025000           0.2   \n",
       "3492   Singapore     Maldives       0       6.0   0.233716           0.0   \n",
       "3493   Argentina       France       1      -1.0  -0.109788           0.4   \n",
       "\n",
       "      goals_suf_dif  goals_suf_dif_l5  goals_per_ranking_dif  dif_rank_agst  \\\n",
       "4          1.000000               1.0               0.037037     -92.000000   \n",
       "6          0.500000               0.5               0.008511     -35.500000   \n",
       "31        -1.000000              -1.0               0.021622       0.000000   \n",
       "32         0.000000               0.0               0.004975       7.000000   \n",
       "33        -0.500000              -0.5              -0.007200      30.500000   \n",
       "...             ...               ...                    ...            ...   \n",
       "3489      -0.534413              -0.8               0.006722     -16.485830   \n",
       "3490      -0.464444              -1.2               0.006699     -18.246667   \n",
       "3491       0.710227               0.6               0.017754     -32.061364   \n",
       "3492      -0.120051               0.0               0.003307     -24.234994   \n",
       "3493      -0.243386              -0.2               0.003482      -4.658069   \n",
       "\n",
       "      dif_rank_agst_l5  dif_points_rank  dif_points_rank_l5  is_friendly_0  \\\n",
       "4                -92.0         0.018519            0.018519              0   \n",
       "6                -35.5         0.008897            0.008897              0   \n",
       "31                 0.0         0.016216            0.016216              1   \n",
       "32                 7.0         0.000000            0.000000              1   \n",
       "33                30.5        -0.010437           -0.010437              1   \n",
       "...                ...              ...                 ...            ...   \n",
       "3489             -19.6         0.004389            0.000855              0   \n",
       "3490             -47.4         0.007125            0.017688              0   \n",
       "3491               1.6         0.031571           -0.086905              1   \n",
       "3492             -38.8         0.002320           -0.002123              0   \n",
       "3493               0.8        -0.038629           -0.070329              1   \n",
       "\n",
       "      is_friendly_1  \n",
       "4                 1  \n",
       "6                 1  \n",
       "31                0  \n",
       "32                0  \n",
       "33                0  \n",
       "...             ...  \n",
       "3489              1  \n",
       "3490              1  \n",
       "3491              0  \n",
       "3492              1  \n",
       "3493              0  \n",
       "\n",
       "[3359 rows x 15 columns]"
      ]
     },
     "execution_count": 540,
     "metadata": {},
     "output_type": "execute_result"
    }
   ],
   "source": [
    "model_db = create_db(df)\n",
    "model_db"
   ]
  },
  {
   "cell_type": "markdown",
   "id": "7e2e1fc0",
   "metadata": {},
   "source": [
    "### Now that we have a database ready and with columns with predictive power"
   ]
  },
  {
   "cell_type": "code",
   "execution_count": 541,
   "id": "7457e7f0",
   "metadata": {},
   "outputs": [],
   "source": [
    "# Set X\n",
    "X=model_db.drop(columns=['home_team','away_team', 'target'], axis=1)"
   ]
  },
  {
   "cell_type": "markdown",
   "id": "11ce0ab7",
   "metadata": {},
   "source": [
    "### View Feature Important Scores"
   ]
  },
  {
   "cell_type": "code",
   "execution_count": 542,
   "id": "96699af8",
   "metadata": {},
   "outputs": [
    {
     "data": {
      "text/plain": [
       "rank_dif                 0.274733\n",
       "dif_points_rank          0.137755\n",
       "goals_per_ranking_dif    0.109295\n",
       "dif_points_rank_l5       0.095346\n",
       "goals_suf_dif            0.080579\n",
       "dif_rank_agst            0.076934\n",
       "goals_dif                0.068590\n",
       "goals_dif_l5             0.049017\n",
       "dif_rank_agst_l5         0.047940\n",
       "goals_suf_dif_l5         0.047735\n",
       "is_friendly_0            0.006200\n",
       "is_friendly_1            0.005876\n",
       "dtype: float64"
      ]
     },
     "execution_count": 542,
     "metadata": {},
     "output_type": "execute_result"
    }
   ],
   "source": [
    "# view the feature scores\n",
    "\n",
    "feature_scores = pd.Series(clf.feature_importances_, index=X.columns).sort_values(ascending=False)\n",
    "\n",
    "feature_scores"
   ]
  },
  {
   "cell_type": "markdown",
   "id": "0ba99c25",
   "metadata": {},
   "source": [
    "### Visualize feature scores of the features"
   ]
  },
  {
   "cell_type": "code",
   "execution_count": 543,
   "id": "21e17844",
   "metadata": {},
   "outputs": [
    {
     "data": {
      "image/png": "[encoded data removed]",
      "text/plain": [
       "<Figure size 2160x1728 with 1 Axes>"
      ]
     },
     "metadata": {
      "needs_background": "light"
     },
     "output_type": "display_data"
    }
   ],
   "source": [
    "# Creating a seaborn bar plot\n",
    "\n",
    "f, ax = plt.subplots(figsize=(30, 24))\n",
    "ax = sns.barplot(x=feature_scores, y=feature_scores.index, data=df)\n",
    "ax.set_title(\"Visualize feature scores of the features\", fontsize=20)\n",
    "ax.set_yticklabels(feature_scores.index, fontsize=20)\n",
    "ax.set_xlabel(\"Feature importance score\", fontsize=20)\n",
    "ax.set_ylabel(\"Features\", fontsize=20)\n",
    "plt.show()"
   ]
  },
  {
   "cell_type": "markdown",
   "id": "c87edc75",
   "metadata": {},
   "source": [
    "rank_dif is the most important feature and is_friendly (both values) are the lowest."
   ]
  }
 ],
 "metadata": {
  "kernelspec": {
   "display_name": "Python 3 (ipykernel)",
   "language": "python",
   "name": "python3"
  },
  "language_info": {
   "codemirror_mode": {
    "name": "ipython",
    "version": 3
   },
   "file_extension": ".py",
   "mimetype": "text/x-python",
   "name": "python",
   "nbconvert_exporter": "python",
   "pygments_lexer": "ipython3",
   "version": "3.9.12"
  }
 },
 "nbformat": 4,
 "nbformat_minor": 5
}
